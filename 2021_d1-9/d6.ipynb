{
 "cells": [
  {
   "cell_type": "code",
   "execution_count": 14,
   "metadata": {},
   "outputs": [
    {
     "name": "stdout",
     "output_type": "stream",
     "text": [
      "380612\n"
     ]
    }
   ],
   "source": [
    "fishes = list(map(int,\"3,4,3,1,2\".split(\",\")))\n",
    "fishes = list(map(int,open(\"d6.input\").read().split(\",\")))\n",
    "days = 80\n",
    "while days:\n",
    "    newfish = []\n",
    "    for i in range(len(fishes)):\n",
    "        if not fishes[i]:\n",
    "            newfish.append(8)\n",
    "            fishes[i] = 6\n",
    "        else:\n",
    "            fishes[i] -= 1\n",
    "    fishes.extend(newfish)\n",
    "    days -= 1\n",
    "print(len(fishes))\n"
   ]
  },
  {
   "cell_type": "code",
   "execution_count": 1,
   "metadata": {},
   "outputs": [
    {
     "name": "stdout",
     "output_type": "stream",
     "text": [
      "1710166656900\n"
     ]
    }
   ],
   "source": [
    "import numpy as np\n",
    "count = {i: 0 for i in range(0,9)}\n",
    "\n",
    "# fishes = list(map(int,\"3,4,3,1,2\".split(\",\")))\n",
    "fishes = list(map(int,open(\"d6.input\").read().split(\",\")))\n",
    "\n",
    "for fish in fishes:\n",
    "    count[fish] += 1\n",
    "array = np.array(list(count.values()), dtype=int)\n",
    "\n",
    "\n",
    "days = 256\n",
    "while days:\n",
    "    newfish = 0\n",
    "    array = np.roll(array, -1)\n",
    "    array[6] += array[-1]\n",
    "    days -= 1\n",
    "\n",
    "print(sum(array))"
   ]
  }
 ],
 "metadata": {
  "kernelspec": {
   "display_name": "Python 3.10.6 64-bit",
   "language": "python",
   "name": "python3"
  },
  "language_info": {
   "codemirror_mode": {
    "name": "ipython",
    "version": 3
   },
   "file_extension": ".py",
   "mimetype": "text/x-python",
   "name": "python",
   "nbconvert_exporter": "python",
   "pygments_lexer": "ipython3",
   "version": "3.10.6"
  },
  "orig_nbformat": 4,
  "vscode": {
   "interpreter": {
    "hash": "e7370f93d1d0cde622a1f8e1c04877d8463912d04d973331ad4851f04de6915a"
   }
  }
 },
 "nbformat": 4,
 "nbformat_minor": 2
}
