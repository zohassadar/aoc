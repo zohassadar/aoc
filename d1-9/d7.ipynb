{
 "cells": [
  {
   "cell_type": "code",
   "execution_count": 1,
   "metadata": {},
   "outputs": [
    {
     "data": {
      "text/plain": [
       "342641"
      ]
     },
     "execution_count": 1,
     "metadata": {},
     "output_type": "execute_result"
    }
   ],
   "source": [
    "import numpy as np\n",
    "\n",
    "sample_data = list(map(int,\"16,1,2,0,4,2,7,1,2,14\".split(\",\")))\n",
    "sample_data = list(map(int,open(\"d7.input\").read().split(\",\")))\n",
    "# sample_data\n",
    "positions = set(sample_data)\n",
    "array = np.array(sample_data)\n",
    "results = {}\n",
    "for position in positions:\n",
    "    # print(position)\n",
    "    # print(array)\n",
    "    pre = np.absolute(array - position)\n",
    "    # print(pre)\n",
    "    results[position] = sum(pre)\n",
    "\n",
    "sorted(results.values())[0]\n",
    "\n",
    "\n"
   ]
  },
  {
   "cell_type": "code",
   "execution_count": 25,
   "metadata": {},
   "outputs": [
    {
     "data": {
      "text/plain": [
       "93006301"
      ]
     },
     "execution_count": 25,
     "metadata": {},
     "output_type": "execute_result"
    }
   ],
   "source": [
    "import numpy as np\n",
    "\n",
    "sample_data = list(map(int,\"16,1,2,0,4,2,7,1,2,14\".split(\",\")))\n",
    "sample_data = list(map(int,open(\"d7.input\").read().split(\",\")))\n",
    "# sample_data\n",
    "positions = list(range(min(sample_data),max(sample_data)+1, 1))\n",
    "array = np.array(sample_data)\n",
    "results = {}\n",
    "\n",
    "fuel_cost = lambda n: sum(range(n+1))\n",
    "\n",
    "for position in positions:\n",
    "    fuel = 0\n",
    "    cost = []\n",
    "    for d in array:\n",
    "        cost.append(fuel_cost(abs(d-position)))\n",
    "    results[position] = sum(cost)\n",
    "\n",
    "\n",
    "sorted(results.values())[0]\n",
    "\n",
    "\n"
   ]
  }
 ],
 "metadata": {
  "kernelspec": {
   "display_name": "Python 3.10.6 64-bit",
   "language": "python",
   "name": "python3"
  },
  "language_info": {
   "codemirror_mode": {
    "name": "ipython",
    "version": 3
   },
   "file_extension": ".py",
   "mimetype": "text/x-python",
   "name": "python",
   "nbconvert_exporter": "python",
   "pygments_lexer": "ipython3",
   "version": "3.10.6"
  },
  "orig_nbformat": 4,
  "vscode": {
   "interpreter": {
    "hash": "e7370f93d1d0cde622a1f8e1c04877d8463912d04d973331ad4851f04de6915a"
   }
  }
 },
 "nbformat": 4,
 "nbformat_minor": 2
}
