{
 "cells": [
  {
   "cell_type": "code",
   "execution_count": 2,
   "metadata": {},
   "outputs": [
    {
     "name": "stdout",
     "output_type": "stream",
     "text": [
      "A B\n",
      "A C\n",
      "\n",
      "B A\n",
      "B C\n",
      "\n",
      "C A\n",
      "C B\n",
      "\n"
     ]
    }
   ],
   "source": [
    "def one_n_rest(iterable):\n",
    "\n",
    "    # one_n_rest(\"ABC\") -> (A, BC), (B, AC), (C, AB)\n",
    "    for one_i, one in enumerate(iterable):\n",
    "        yield one, (rest for rest_i, rest in enumerate(iterable) if rest_i != one_i)\n",
    "\n",
    "\n",
    "\n",
    "test = one_n_rest(\"ABC\")\n",
    "\n",
    "for one, rest in test:\n",
    "    for thing in rest:\n",
    "        print (one, thing)\n",
    "    print (\"\")"
   ]
  },
  {
   "cell_type": "code",
   "execution_count": 62,
   "metadata": {},
   "outputs": [
    {
     "name": "stdout",
     "output_type": "stream",
     "text": [
      "0 1 66\n",
      "0 2\n",
      "0 3\n",
      "0 4\n",
      "1 2\n",
      "1 3 66\n",
      "1 4 66\n",
      "2 3\n",
      "2 4 66\n",
      "3 4\n"
     ]
    }
   ],
   "source": [
    "import re\n",
    "from collections import defaultdict\n",
    "from pprint import pp\n",
    "\n",
    "\n",
    "sample = open('d19.sample').read()\n",
    "\n",
    "scanner_find = re.compile(r'--- scanner (\\d?) ---\\s+(.*?)(?=\\Z|\\s{2,})', flags=re.S|re.M).findall\n",
    "\n",
    "coord_find = re.compile(r'(-?\\d+),(-?\\d+),(-?\\d+)').findall\n",
    "\n",
    "\n",
    "def get_data(data):\n",
    "    results = defaultdict(list)\n",
    "    for scanner_ids, coords in scanner_find(data):\n",
    "        scanner_id = int(scanner_ids)\n",
    "        for x,y,z in coord_find(coords):\n",
    "            results[scanner_id].append((int(x),int(y),int(z)))\n",
    "    return dict(results)\n",
    "            \n",
    "\n",
    "\n",
    "results = get_data(sample)\n",
    "\n",
    "\n",
    "distances = defaultdict(list)\n",
    "\n",
    "for scanner, coords in results.items():\n",
    "    for (x1,y1,z1), remaining in one_n_rest(coords):\n",
    "        for x2,y2,z2 in remaining:\n",
    "            distances[scanner].append(((x2 - x1) ** 2) + ((y2 - y1) ** 2) + ((z2 - z1) ** 2))\n",
    "\n",
    "\n",
    "from collections import Counter\n",
    "completed = []\n",
    "for scanner, others in one_n_rest(distances):\n",
    "    for other in others:\n",
    "        id = tuple(sorted([scanner, other]))\n",
    "        if id in completed:\n",
    "            continue\n",
    "        completed.append(id)\n",
    "        scanner_distances = distances[scanner]\n",
    "        other_distances = distances[other]\n",
    "        counts = Counter(list(set(scanner_distances)) + list(set(other_distances)))\n",
    "        commons = len([c for c in counts.values() if c > 1])\n",
    "        if commons >= 66:\n",
    "            print(scanner, other, commons)\n",
    "        else:\n",
    "            print(scanner, other)\n",
    "\n",
    "\n",
    "\n",
    "\n",
    "            "
   ]
  },
  {
   "cell_type": "code",
   "execution_count": null,
   "metadata": {},
   "outputs": [],
   "source": []
  }
 ],
 "metadata": {
  "kernelspec": {
   "display_name": "Python 3.11.0rc1 64-bit",
   "language": "python",
   "name": "python3"
  },
  "language_info": {
   "codemirror_mode": {
    "name": "ipython",
    "version": 3
   },
   "file_extension": ".py",
   "mimetype": "text/x-python",
   "name": "python",
   "nbconvert_exporter": "python",
   "pygments_lexer": "ipython3",
   "version": "3.11.0rc1"
  },
  "orig_nbformat": 4,
  "vscode": {
   "interpreter": {
    "hash": "ead1b95f633dc9c51826328e1846203f51a198c6fb5f2884a80417ba131d4e82"
   }
  }
 },
 "nbformat": 4,
 "nbformat_minor": 2
}
