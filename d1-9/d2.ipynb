{
 "cells": [
  {
   "cell_type": "code",
   "execution_count": 11,
   "metadata": {},
   "outputs": [
    {
     "data": {
      "text/plain": [
       "1813801"
      ]
     },
     "execution_count": 11,
     "metadata": {},
     "output_type": "execute_result"
    }
   ],
   "source": [
    "import re\n",
    "data = [i.strip() for i in open('d2.input').readlines()]\n",
    "depth = 0\n",
    "horizontal = 0\n",
    "for d in data:\n",
    "    command,amount = re.match(r\"(forward|up|down) (\\d+)\", d).groups()\n",
    "    if command == \"forward\":\n",
    "        horizontal += int(amount)\n",
    "    elif command == \"down\":\n",
    "        depth += int(amount)\n",
    "    elif command == \"up\":\n",
    "        depth -= int(amount)\n",
    "\n",
    "depth*horizontal"
   ]
  },
  {
   "cell_type": "code",
   "execution_count": 15,
   "metadata": {},
   "outputs": [
    {
     "data": {
      "text/plain": [
       "1960569556"
      ]
     },
     "execution_count": 15,
     "metadata": {},
     "output_type": "execute_result"
    }
   ],
   "source": [
    "import re\n",
    "\n",
    "data = \"\"\"forward 5\n",
    "down 5\n",
    "forward 8\n",
    "up 3\n",
    "down 8\n",
    "forward 2\"\"\".splitlines()\n",
    "\n",
    "data = [i.strip() for i in open('d2.input').readlines()]\n",
    "\n",
    "\n",
    "aim = 0\n",
    "depth = 0\n",
    "horizontal = 0\n",
    "for d in data:\n",
    "    command,amount = re.match(r\"(forward|up|down) (\\d+)\", d).groups()\n",
    "    amount = int(amount)\n",
    "    if command == \"forward\":\n",
    "        horizontal += amount\n",
    "        depth+=aim * amount\n",
    "    elif command == \"down\":\n",
    "        aim += amount\n",
    "    elif command == \"up\":\n",
    "        aim -= amount\n",
    "\n",
    "depth*horizontal"
   ]
  }
 ],
 "metadata": {
  "kernelspec": {
   "display_name": "Python 3.10.6 64-bit",
   "language": "python",
   "name": "python3"
  },
  "language_info": {
   "codemirror_mode": {
    "name": "ipython",
    "version": 3
   },
   "file_extension": ".py",
   "mimetype": "text/x-python",
   "name": "python",
   "nbconvert_exporter": "python",
   "pygments_lexer": "ipython3",
   "version": "3.10.6"
  },
  "orig_nbformat": 4,
  "vscode": {
   "interpreter": {
    "hash": "e7370f93d1d0cde622a1f8e1c04877d8463912d04d973331ad4851f04de6915a"
   }
  }
 },
 "nbformat": 4,
 "nbformat_minor": 2
}
