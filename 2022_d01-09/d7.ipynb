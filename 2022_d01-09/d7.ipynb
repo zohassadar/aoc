{
 "cells": [
  {
   "cell_type": "code",
   "execution_count": 66,
   "metadata": {},
   "outputs": [
    {
     "name": "stdout",
     "output_type": "stream",
     "text": [
      "95437\n",
      "24933642\n"
     ]
    }
   ],
   "source": [
    "DEBUG = False\n",
    "from sys import maxsize\n",
    "from json import dumps\n",
    "\n",
    "d = lambda thing: print(dumps(thing, indent=4))\n",
    "from collections import defaultdict\n",
    "sample = \"\"\"$ cd /\n",
    "$ ls\n",
    "dir a\n",
    "14848514 b.txt\n",
    "8504156 c.dat\n",
    "dir d\n",
    "$ cd a\n",
    "$ ls\n",
    "dir e\n",
    "29116 f\n",
    "2557 g\n",
    "62596 h.lst\n",
    "$ cd e\n",
    "$ ls\n",
    "584 i\n",
    "$ cd ..\n",
    "$ cd ..\n",
    "$ cd d\n",
    "$ ls\n",
    "4060174 j\n",
    "8033020 d.log\n",
    "5626152 d.ext\n",
    "7214296 k\"\"\" \n",
    "\n",
    "turtle_dict = lambda: defaultdict(turtle_dict)\n",
    "DEBUG2 = False\n",
    "def crawl_dir(data):\n",
    "    result = defaultdict(turtle_dict)\n",
    "    steps = iter(data.splitlines())\n",
    "    first_step = next(steps)\n",
    "\n",
    "    totals = []\n",
    "    def add_total(tree, parents=\"TOP\", depth=0):\n",
    "        pad = depth * \" \"\n",
    "        depth += 1\n",
    "        nonlocal totals\n",
    "        total = 0\n",
    "        for name, size_or_dir in tree.items():\n",
    "            if not parents == \"TOP\":\n",
    "                parent = '/'.join((parents,name))\n",
    "            else:\n",
    "                parent = \"\"\n",
    "            DEBUG2 and print (pad + f\"{name=}, {size_or_dir=}\")\n",
    "            if isinstance(size_or_dir, int):\n",
    "                total += size_or_dir\n",
    "            else:\n",
    "                dir_total = add_total(size_or_dir, parent, depth)\n",
    "                total+=dir_total\n",
    "                DEBUG2 and print (pad + f'{dir_total} received back from {name}')\n",
    "                totals.append(dir_total)\n",
    "        return total\n",
    "\n",
    "\n",
    "    def gather(result, name, depth):\n",
    "        pad = depth * \" \"\n",
    "        depth += 1\n",
    "        while True:\n",
    "            try:\n",
    "                step = next(steps)\n",
    "            except StopIteration:\n",
    "                break\n",
    "\n",
    "            DEBUG and print (pad + f'{name=} {step=}')\n",
    "            if step.startswith(\"$ cd\") and step.endswith(\"..\"):\n",
    "                return\n",
    "            elif step.startswith(\"$ cd\"):\n",
    "                dir = step.split()[2]\n",
    "                DEBUG and print (pad + f\"{dir}\")\n",
    "                gather(result[name], dir, depth)\n",
    "            elif step.startswith(\"$ ls\"):\n",
    "                DEBUG and print (pad + \"ls\")\n",
    "            elif step.startswith(\"dir\"):\n",
    "                pass\n",
    "                # result[step.split()[1]]\n",
    "            elif step[0].isdigit():\n",
    "                parts = step.split()\n",
    "                DEBUG and print (pad + f\"{name=} {parts=}\")\n",
    "                size = int(parts[0])\n",
    "                result[name][parts[1]] = size\n",
    "            else:\n",
    "                DEBUG and print (pad + \"what\")\n",
    "                break\n",
    "\n",
    "\n",
    "    gather(result, first_step.split()[2], 0)\n",
    "\n",
    "    DEBUG and d(result)\n",
    "\n",
    "    add_total(result)\n",
    "    DEBUG and d(totals)\n",
    "    print(sum([t for t in totals if t < 100000]))\n",
    "    \n",
    "    total = max(totals)\n",
    "    difference = 30000000 - (70000000 - total)\n",
    "    best_answer = maxsize\n",
    "    for t in totals:\n",
    "        if t > difference and t < best_answer:\n",
    "            best_answer = t\n",
    "    print(best_answer)\n",
    "    \n",
    "\n",
    "\n",
    "\n",
    "DEBUG = False\n",
    "crawl_dir(sample)"
   ]
  },
  {
   "cell_type": "code",
   "execution_count": 67,
   "metadata": {},
   "outputs": [
    {
     "name": "stdout",
     "output_type": "stream",
     "text": [
      "1206825\n",
      "9608311\n"
     ]
    }
   ],
   "source": [
    "crawl_dir(open('d7.input').read())"
   ]
  }
 ],
 "metadata": {
  "kernelspec": {
   "display_name": "Python 3.11.0rc1 64-bit",
   "language": "python",
   "name": "python3"
  },
  "language_info": {
   "codemirror_mode": {
    "name": "ipython",
    "version": 3
   },
   "file_extension": ".py",
   "mimetype": "text/x-python",
   "name": "python",
   "nbconvert_exporter": "python",
   "pygments_lexer": "ipython3",
   "version": "3.11.0rc1"
  },
  "orig_nbformat": 4,
  "vscode": {
   "interpreter": {
    "hash": "ead1b95f633dc9c51826328e1846203f51a198c6fb5f2884a80417ba131d4e82"
   }
  }
 },
 "nbformat": 4,
 "nbformat_minor": 2
}
