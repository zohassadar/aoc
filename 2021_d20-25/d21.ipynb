{
 "cells": [
  {
   "cell_type": "code",
   "execution_count": 19,
   "metadata": {},
   "outputs": [
    {
     "name": "stdout",
     "output_type": "stream",
     "text": [
      "739785\n",
      "913560\n"
     ]
    }
   ],
   "source": [
    "import re\n",
    "from itertools import cycle\n",
    "\n",
    "sample =\"\"\"Player 1 starting position: 4\n",
    "Player 2 starting position: 8\"\"\"\n",
    "\n",
    "\n",
    "real = \"\"\"Player 1 starting position: 4\n",
    "Player 2 starting position: 1\"\"\"\n",
    "\n",
    "\n",
    "class Game:\n",
    "    SIZE = 10\n",
    "    DICE = 100\n",
    "    ROLLS = 3\n",
    "    LIMIT = 1000\n",
    "    def __init__(self, p1, p2):\n",
    "        self.p1 = cycle(range(1,self.SIZE + 1))\n",
    "        self.p2 = cycle(range(1,self.SIZE + 1))\n",
    "        self.p1last = p1\n",
    "        self.p2last = p2\n",
    "        self.p1score = 0\n",
    "        self.p2score = 0\n",
    "        self.dice = cycle(range(1,self.DICE + 1))\n",
    "        self.dice_rolls = 0\n",
    "        testp1 = next(self.p1)\n",
    "        testp2 = next(self.p2)\n",
    "        while testp1 != p1:\n",
    "            testp1 = next(self.p1)\n",
    "        while testp2 != p2:\n",
    "            testp2 = next(self.p2)\n",
    "\n",
    "\n",
    "    def is_game_over(self):\n",
    "        return max((self.p1score, self.p2score)) >= self.LIMIT\n",
    "\n",
    "    def summary(self):\n",
    "        return min((g.p1score, g.p2score)) * g.dice_rolls\n",
    "        \n",
    "    def play_til_limit(self):\n",
    "        while not self.is_game_over():\n",
    "            self.turns()\n",
    "\n",
    "    def turns(self):\n",
    "        self.turn('p1')\n",
    "        if self.is_game_over():\n",
    "            return\n",
    "        self.turn('p2')\n",
    "\n",
    "    def turn(self, player):\n",
    "        moves = sum(next(self.dice) for _ in range(self.ROLLS)) % self.SIZE\n",
    "        self.dice_rolls += self.ROLLS\n",
    "        score = getattr(self, f'{player}score')\n",
    "        mover = getattr(self, player)\n",
    "        if not moves:\n",
    "            space = getattr(self, f'{player}last')\n",
    "        for _ in range(moves):\n",
    "            space = next(mover)\n",
    "        setattr(self, f'{player}last', space)\n",
    "        setattr(self, f'{player}score', score + space)\n",
    "\n",
    "\n",
    "\n",
    "\n",
    "\n",
    "g = Game(4,8)\n",
    "g.play_til_limit()\n",
    "print(g.summary())\n",
    "\n",
    "g = Game(4,1)\n",
    "g.play_til_limit()\n",
    "print(g.summary())\n"
   ]
  },
  {
   "cell_type": "code",
   "execution_count": 5,
   "metadata": {},
   "outputs": [
    {
     "name": "stdout",
     "output_type": "stream",
     "text": [
      "739785\n"
     ]
    }
   ],
   "source": [
    "\n",
    "from itertools import cycle\n",
    "from sys import maxsize\n",
    "\n",
    "total = None\n",
    "def count_cycle():\n",
    "    global total\n",
    "    total = 0\n",
    "    real_cycle = cycle(range(1,101))\n",
    "    while True:\n",
    "        total += 1\n",
    "        yield next(real_cycle)\n",
    "\n",
    "\n",
    "max = 1000\n",
    "get_new = lambda last, new: ((last + new - 1) % 10) + 1\n",
    "\n",
    "\n",
    "def play_game(positions):\n",
    "    dice = (sum(list(r)) for r in zip(*([iter(count_cycle())] * 3)))\n",
    "    won = lambda: scores[0] >= max or scores[1] >= max\n",
    "    scores = [0,0]\n",
    "    def play_game_inner(positions):\n",
    "        nonlocal scores\n",
    "        while not won():\n",
    "            for i in (0,1):\n",
    "                roll = next(dice)\n",
    "                last = positions[i]\n",
    "                new = get_new(positions[i], roll)\n",
    "                positions[i] = new\n",
    "                scores[i] += positions[i]\n",
    "                # print(f'{roll=} {last=} {new=} {i=} {scores[i]=}')\n",
    "                if won():\n",
    "                    break\n",
    "        return scores\n",
    "    return play_game_inner(positions)\n",
    "\n",
    "\n",
    "positions = [4,8]\n",
    "print (min(play_game(positions)) * total)\n"
   ]
  },
  {
   "cell_type": "code",
   "execution_count": 42,
   "metadata": {},
   "outputs": [
    {
     "name": "stdout",
     "output_type": "stream",
     "text": [
      "913560\n"
     ]
    }
   ],
   "source": [
    "positions = [4,1]\n",
    "print (min(play_game(positions)) * total)"
   ]
  }
 ],
 "metadata": {
  "kernelspec": {
   "display_name": "Python 3.11.0rc1 64-bit",
   "language": "python",
   "name": "python3"
  },
  "language_info": {
   "codemirror_mode": {
    "name": "ipython",
    "version": 3
   },
   "file_extension": ".py",
   "mimetype": "text/x-python",
   "name": "python",
   "nbconvert_exporter": "python",
   "pygments_lexer": "ipython3",
   "version": "3.11.0"
  },
  "orig_nbformat": 4,
  "vscode": {
   "interpreter": {
    "hash": "ead1b95f633dc9c51826328e1846203f51a198c6fb5f2884a80417ba131d4e82"
   }
  }
 },
 "nbformat": 4,
 "nbformat_minor": 2
}
