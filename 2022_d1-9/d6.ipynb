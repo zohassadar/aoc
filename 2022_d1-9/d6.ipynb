{
 "cells": [
  {
   "cell_type": "code",
   "execution_count": 13,
   "metadata": {},
   "outputs": [
    {
     "name": "stdout",
     "output_type": "stream",
     "text": [
      "i=7 window='jpqm'\n"
     ]
    }
   ],
   "source": [
    "import re\n",
    "from collections import deque\n",
    "from itertools import islice\n",
    "\n",
    "\n",
    "def sliding_window(iterable, n):\n",
    "    # sliding_window('ABCDEFG', 4) --> ABCD BCDE CDEF DEFG\n",
    "    it = iter(iterable)\n",
    "    window = deque(islice(it, n), maxlen=n)\n",
    "    if len(window) == n:\n",
    "        yield n, tuple(window)\n",
    "    for i,x in enumerate(it, start=n+1):\n",
    "        window.append(x)\n",
    "        yield i, tuple(window)\n",
    "\n",
    "sample  = \"\"\"mjqjpqmgbljsphdztnvjfqwrcgsmlb\"\"\"\n",
    "\n",
    "\n",
    "\n",
    "def get_data(data, size):\n",
    "\n",
    "    for i, window in sliding_window(data, size):\n",
    "        if len(window) == len(set(window)):\n",
    "            window = ''.join(window)\n",
    "            print(f'{i=} {window=}')\n",
    "            break\n",
    "\n",
    "get_data(sample, 4)"
   ]
  },
  {
   "cell_type": "code",
   "execution_count": 14,
   "metadata": {},
   "outputs": [
    {
     "name": "stdout",
     "output_type": "stream",
     "text": [
      "i=1779 window='sprm'\n"
     ]
    }
   ],
   "source": [
    "get_data(open('d6.input').read(), 4)"
   ]
  },
  {
   "cell_type": "code",
   "execution_count": 15,
   "metadata": {},
   "outputs": [
    {
     "name": "stdout",
     "output_type": "stream",
     "text": [
      "i=2635 window='jfbgpwhlrzdqnc'\n"
     ]
    }
   ],
   "source": [
    "get_data(open('d6.input').read(), 14)"
   ]
  }
 ],
 "metadata": {
  "kernelspec": {
   "display_name": "Python 3.11.0rc1 64-bit",
   "language": "python",
   "name": "python3"
  },
  "language_info": {
   "codemirror_mode": {
    "name": "ipython",
    "version": 3
   },
   "file_extension": ".py",
   "mimetype": "text/x-python",
   "name": "python",
   "nbconvert_exporter": "python",
   "pygments_lexer": "ipython3",
   "version": "3.11.0rc1"
  },
  "orig_nbformat": 4,
  "vscode": {
   "interpreter": {
    "hash": "ead1b95f633dc9c51826328e1846203f51a198c6fb5f2884a80417ba131d4e82"
   }
  }
 },
 "nbformat": 4,
 "nbformat_minor": 2
}
