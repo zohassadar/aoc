{
 "cells": [
  {
   "cell_type": "code",
   "execution_count": 60,
   "metadata": {},
   "outputs": [
    {
     "data": {
      "text/plain": [
       "15"
      ]
     },
     "execution_count": 60,
     "metadata": {},
     "output_type": "execute_result"
    }
   ],
   "source": [
    "import re\n",
    "from collections import defaultdict\n",
    "sample = \"\"\"A Y\n",
    "B X\n",
    "C Z\"\"\"\n",
    "# A Rock B Paper C Scissors\n",
    "words = {'A': \"Rock\", \"B\": \"Paper\", \"C\": \"Scissors\"}\n",
    "\n",
    "points = {'A': 1, 'B': 2, 'C': 3}\n",
    "\n",
    "results = {\"A\": (\"C\", \"A\", \"B\"), \"B\": (\"A\", \"B\", \"C\"), \"C\": (\"B\", \"C\", \"A\")}\n",
    "\n",
    "mapping = {chr(ord(k)+23): k for k in points}\n",
    "\n",
    "\n",
    "\n",
    "\n",
    "\n",
    "def get_data(data):\n",
    "    return re.findall('([ABC]) ([YXZ])', data)\n",
    "\n",
    "\n",
    "def get_score(pairs, switch=False):\n",
    "    score = 0\n",
    "    for theirs, mine in pairs:\n",
    "        mine = mapping[mine]\n",
    "        if switch:\n",
    "            mine = results[theirs][ord(mine) - 65]\n",
    "        beaten, draw, beater = results[mine]\n",
    "        score+=points[mine]\n",
    "        if theirs == beaten:\n",
    "            score+=6\n",
    "        elif theirs != beater:\n",
    "            score+=3\n",
    "    return score\n",
    "\n",
    "pairs = get_data(sample)\n",
    "get_score(pairs)"
   ]
  },
  {
   "cell_type": "code",
   "execution_count": 61,
   "metadata": {},
   "outputs": [
    {
     "data": {
      "text/plain": [
       "10994"
      ]
     },
     "execution_count": 61,
     "metadata": {},
     "output_type": "execute_result"
    }
   ],
   "source": [
    "realdeal = get_data(open('d2.input').read())\n",
    "get_score(realdeal)"
   ]
  },
  {
   "cell_type": "code",
   "execution_count": 63,
   "metadata": {},
   "outputs": [
    {
     "data": {
      "text/plain": [
       "12"
      ]
     },
     "execution_count": 63,
     "metadata": {},
     "output_type": "execute_result"
    }
   ],
   "source": [
    "get_score(pairs, switch=True)"
   ]
  },
  {
   "cell_type": "code",
   "execution_count": 64,
   "metadata": {},
   "outputs": [
    {
     "data": {
      "text/plain": [
       "12526"
      ]
     },
     "execution_count": 64,
     "metadata": {},
     "output_type": "execute_result"
    }
   ],
   "source": [
    "get_score(realdeal, switch=True)"
   ]
  }
 ],
 "metadata": {
  "kernelspec": {
   "display_name": "Python 3.11.0rc1 64-bit",
   "language": "python",
   "name": "python3"
  },
  "language_info": {
   "codemirror_mode": {
    "name": "ipython",
    "version": 3
   },
   "file_extension": ".py",
   "mimetype": "text/x-python",
   "name": "python",
   "nbconvert_exporter": "python",
   "pygments_lexer": "ipython3",
   "version": "3.11.0rc1"
  },
  "orig_nbformat": 4,
  "vscode": {
   "interpreter": {
    "hash": "ead1b95f633dc9c51826328e1846203f51a198c6fb5f2884a80417ba131d4e82"
   }
  }
 },
 "nbformat": 4,
 "nbformat_minor": 2
}
