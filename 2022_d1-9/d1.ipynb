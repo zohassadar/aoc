{
 "cells": [
  {
   "cell_type": "code",
   "execution_count": 9,
   "metadata": {},
   "outputs": [
    {
     "name": "stdout",
     "output_type": "stream",
     "text": [
      "24000\n",
      "45000\n",
      "72511\n",
      "212117\n"
     ]
    }
   ],
   "source": [
    "sample = \"\"\"1000\n",
    "2000\n",
    "3000\n",
    "\n",
    "4000\n",
    "\n",
    "5000\n",
    "6000\n",
    "\n",
    "7000\n",
    "8000\n",
    "9000\n",
    "\n",
    "10000\"\"\"\n",
    "\n",
    "def get_groups(data):\n",
    "    results = []\n",
    "    for subgroup in data.split(\"\\n\\n\"):\n",
    "        results.append(sum(int(i) for i in subgroup.splitlines()))\n",
    "    return results\n",
    "\n",
    "print(max(get_groups(sample)))\n",
    "print(sum(sorted(get_groups(sample), reverse=True)[:3]))\n",
    "\n",
    "print(max(get_groups(open(\"d1.input\").read())))\n",
    "print(sum(sorted(get_groups(open(\"d1.input\").read()), reverse=True)[:3]))\n",
    "\n"
   ]
  }
 ],
 "metadata": {
  "kernelspec": {
   "display_name": "Python 3.11.0rc1 64-bit",
   "language": "python",
   "name": "python3"
  },
  "language_info": {
   "codemirror_mode": {
    "name": "ipython",
    "version": 3
   },
   "file_extension": ".py",
   "mimetype": "text/x-python",
   "name": "python",
   "nbconvert_exporter": "python",
   "pygments_lexer": "ipython3",
   "version": "3.11.0rc1"
  },
  "orig_nbformat": 4,
  "vscode": {
   "interpreter": {
    "hash": "ead1b95f633dc9c51826328e1846203f51a198c6fb5f2884a80417ba131d4e82"
   }
  }
 },
 "nbformat": 4,
 "nbformat_minor": 2
}
