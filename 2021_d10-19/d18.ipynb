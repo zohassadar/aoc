{
 "cells": [
  {
   "cell_type": "code",
   "execution_count": 24,
   "metadata": {},
   "outputs": [],
   "source": [
    "from pprint import pp\n",
    "\n",
    "sample = \"\"\"[[[0,[5,8]],[[1,7],[9,6]]],[[4,[1,2]],[[1,4],2]]]\n",
    "[[[5,[2,8]],4],[5,[[9,9],0]]]\n",
    "[6,[[[6,2],[5,6]],[[7,6],[4,7]]]]\n",
    "[[[6,[0,7]],[0,9]],[4,[9,[9,0]]]]\n",
    "[[[7,[6,4]],[3,[1,3]]],[[[5,5],1],9]]\n",
    "[[6,[[7,3],[3,2]]],[[[3,8],[5,7]],4]]\n",
    "[[[[5,4],[7,7]],8],[[8,3],8]]\n",
    "[[9,3],[[9,9],[6,[4,9]]]]\n",
    "[[2,[[7,7],7]],[[5,8],[[9,3],[0,2]]]]\n",
    "[[[[5,2],5],[8,[3,7]]],[[5,[7,5]],[4,4]]]\"\"\"\n",
    "\n"
   ]
  },
  {
   "cell_type": "code",
   "execution_count": 47,
   "metadata": {},
   "outputs": [
    {
     "name": "stdout",
     "output_type": "stream",
     "text": [
      "[[[[6, 6], [7, 6]], [[7, 7], [7, 0]]], [[[7, 7], [7, 7]], [[7, 8], [9, 9]]]]\n",
      "4140\n"
     ]
    }
   ],
   "source": [
    "DEBUG = False\n",
    "def recurse_snail(snail):\n",
    "    exploded = None\n",
    "    res_start = {0: False, 1: False}\n",
    "    resolved = res_start\n",
    "    has_split = False\n",
    "\n",
    "    def split(snail):\n",
    "        nonlocal has_split\n",
    "        for i, item in enumerate(snail):\n",
    "            if not has_split and isinstance(item, int) and item > 9:\n",
    "                snail[i] = [item // 2, (item // 2) + (item % 2)]\n",
    "                has_split = True\n",
    "            elif not has_split and not isinstance(item, int):\n",
    "                snail[i] = split(snail[i])\n",
    "        return snail\n",
    "\n",
    "    def resolve(item, index):\n",
    "        DEBUG and print (f\"Resolving: {item=} {index=}\")\n",
    "        if isinstance(item, int):\n",
    "            return item + exploded[not(index)]\n",
    "        item[index] = resolve(item[index], index)\n",
    "        return item\n",
    "\n",
    "    def explode(snail, depth=0):\n",
    "        nonlocal exploded, resolved\n",
    "        if depth == 0:\n",
    "            exploded = None\n",
    "            resolved = res_start\n",
    "        pad = depth * \" \"\n",
    "        depth+=1\n",
    "        value1, value2 = snail\n",
    "        if depth > 4:\n",
    "            exploded=value1, value2\n",
    "            return 0, True\n",
    "        DEBUG and print(pad + f'{depth=} {value1=} {value2=}')\n",
    "        jh = False\n",
    "        for e_i, value in enumerate(snail):\n",
    "            if not exploded and isinstance(value, list):\n",
    "                value, jh = explode(value, depth)\n",
    "                snail[e_i] = value\n",
    "                if exploded:\n",
    "                    DEBUG and print(pad + f'{e_i=} {value=}')\n",
    "                    break\n",
    "        \n",
    "        to_resolve = int(not(e_i))\n",
    "        is_res = resolved[to_resolve]\n",
    "        DEBUG and print(pad + f'{exploded=} {jh=} {e_i=} {to_resolve=} {is_res=}')\n",
    "        if exploded and not is_res:\n",
    "            snail[to_resolve] = resolve(snail[to_resolve], e_i)\n",
    "            resolved[to_resolve] = True\n",
    "        return snail, False\n",
    "    result, _ = explode(snail)\n",
    "    if exploded:\n",
    "        result = recurse_snail(result)\n",
    "    result = split(snail)\n",
    "    if has_split:\n",
    "        result = recurse_snail(result)\n",
    "    return result\n",
    "\n",
    "DEBUG = False\n",
    "samples = [eval(s) for s in sample.splitlines()]\n",
    "result, remaining = samples[0], samples[1:]\n",
    "for s in remaining:\n",
    "    result = recurse_snail([result, s])\n",
    "\n",
    "\n",
    "\n",
    "def magnitude(snail):\n",
    "    if isinstance(snail, int):\n",
    "        return snail\n",
    "    return magnitude(snail[0]) * 3 + magnitude(snail[1]) * 2\n",
    "\n",
    "\n",
    "print(result)\n",
    "print(magnitude(result))\n",
    "\n",
    "\n",
    "\n",
    "\n",
    "\n"
   ]
  },
  {
   "cell_type": "code",
   "execution_count": 48,
   "metadata": {},
   "outputs": [
    {
     "name": "stdout",
     "output_type": "stream",
     "text": [
      "4132\n"
     ]
    }
   ],
   "source": [
    "\n",
    "realdeal = open('d18.input').readlines()\n",
    "realdeals = [eval(r) for r in realdeal]\n",
    "\n",
    "result, remaining = realdeals[0], realdeals[1:]\n",
    "for s in remaining:\n",
    "    result = recurse_snail([result, s])\n",
    "\n",
    "print(magnitude(result))\n"
   ]
  },
  {
   "cell_type": "code",
   "execution_count": 53,
   "metadata": {},
   "outputs": [
    {
     "name": "stdout",
     "output_type": "stream",
     "text": [
      "10\n",
      "[[[0, [5, 8]], [[1, 7], [9, 6]]], [[4, [1, 2]], [[1, 4], 2]]]\n",
      "[[2, [[7, 7], 7]], [[5, 8], [[9, 3], [0, 2]]]]\n",
      "3993\n",
      "3993\n"
     ]
    }
   ],
   "source": [
    "from itertools import permutations\n",
    "from copy import deepcopy\n",
    "max_mag = 0\n",
    "samples = [eval(s) for s in sample.splitlines()]\n",
    "print(len(samples))\n",
    "for a,b in permutations(samples, 2):\n",
    "    mag = magnitude(recurse_snail([deepcopy(a),deepcopy(b)]))\n",
    "    if mag >= 3993:\n",
    "        print(b)\n",
    "        print(a)\n",
    "        print(mag)\n",
    "    max_mag = max((max_mag, mag))\n",
    "\n",
    "print(max_mag)"
   ]
  },
  {
   "cell_type": "code",
   "execution_count": 55,
   "metadata": {},
   "outputs": [
    {
     "name": "stdout",
     "output_type": "stream",
     "text": [
      "10\n",
      "4685\n"
     ]
    }
   ],
   "source": [
    "max_mag = 0\n",
    "\n",
    "realdeal = open('d18.input').readlines()\n",
    "realdeals = [eval(r) for r in realdeal]\n",
    "print(len(samples))\n",
    "for a,b in permutations(realdeals, 2):\n",
    "    mag = magnitude(recurse_snail([deepcopy(a),deepcopy(b)]))\n",
    "    max_mag = max((max_mag, mag))\n",
    "\n",
    "print(max_mag)"
   ]
  }
 ],
 "metadata": {
  "kernelspec": {
   "display_name": "Python 3.11.0rc1 64-bit",
   "language": "python",
   "name": "python3"
  },
  "language_info": {
   "codemirror_mode": {
    "name": "ipython",
    "version": 3
   },
   "file_extension": ".py",
   "mimetype": "text/x-python",
   "name": "python",
   "nbconvert_exporter": "python",
   "pygments_lexer": "ipython3",
   "version": "3.11.0rc1"
  },
  "orig_nbformat": 4,
  "vscode": {
   "interpreter": {
    "hash": "ead1b95f633dc9c51826328e1846203f51a198c6fb5f2884a80417ba131d4e82"
   }
  }
 },
 "nbformat": 4,
 "nbformat_minor": 2
}
