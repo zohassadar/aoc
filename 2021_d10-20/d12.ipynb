{
 "cells": [
  {
   "cell_type": "code",
   "execution_count": 120,
   "metadata": {},
   "outputs": [
    {
     "name": "stdout",
     "output_type": "stream",
     "text": [
      "{'start': ['A', 'b'],\n",
      " 'A': ['start', 'c', 'b', 'end'],\n",
      " 'b': ['start', 'A', 'd', 'end'],\n",
      " 'c': ['A'],\n",
      " 'd': ['b'],\n",
      " 'end': ['A', 'b']}\n",
      "{'dc': ['end', 'start', 'HN', 'LN', 'kj'],\n",
      " 'end': ['dc', 'HN'],\n",
      " 'HN': ['start', 'dc', 'end', 'kj'],\n",
      " 'start': ['HN', 'kj', 'dc'],\n",
      " 'kj': ['start', 'sa', 'HN', 'dc'],\n",
      " 'LN': ['dc'],\n",
      " 'sa': ['kj']}\n",
      "{'fs': ['end', 'he', 'DX', 'pj'],\n",
      " 'end': ['fs', 'zg'],\n",
      " 'he': ['DX', 'fs', 'pj', 'RW', 'WI', 'zg'],\n",
      " 'DX': ['he', 'start', 'pj', 'fs'],\n",
      " 'start': ['DX', 'pj', 'RW'],\n",
      " 'pj': ['DX', 'zg', 'he', 'RW', 'start', 'fs'],\n",
      " 'zg': ['end', 'sl', 'pj', 'RW', 'he'],\n",
      " 'sl': ['zg'],\n",
      " 'RW': ['he', 'pj', 'zg', 'start'],\n",
      " 'WI': ['he']}\n"
     ]
    }
   ],
   "source": [
    "from pprint import pp\n",
    "import re\n",
    "from string import ascii_uppercase\n",
    "\n",
    "sample_data_mini = \"\"\"start-a\n",
    "start-b\n",
    "b-end\n",
    "a-end\n",
    "\"\"\"\n",
    "\n",
    "sample_data = \"\"\"start-A\n",
    "start-b\n",
    "A-c\n",
    "A-b\n",
    "b-d\n",
    "A-end\n",
    "b-end\"\"\"\n",
    "\n",
    "sample_data2 = \"\"\"dc-end\n",
    "HN-start\n",
    "start-kj\n",
    "dc-start\n",
    "dc-HN\n",
    "LN-dc\n",
    "HN-end\n",
    "kj-sa\n",
    "kj-HN\n",
    "kj-dc\"\"\"\n",
    "\n",
    "sample_data3 = \"\"\"\n",
    "fs-end\n",
    "he-DX\n",
    "fs-he\n",
    "start-DX\n",
    "pj-DX\n",
    "end-zg\n",
    "zg-sl\n",
    "zg-pj\n",
    "pj-he\n",
    "RW-he\n",
    "fs-DX\n",
    "pj-RW\n",
    "zg-RW\n",
    "start-pj\n",
    "he-WI\n",
    "zg-he\n",
    "pj-fs\n",
    "start-RW\"\"\"\n",
    "\n",
    "\n",
    "\n",
    "def get_data(sample):\n",
    "    pairs = re.findall(r'(\\w+)-(\\w+)', sample)\n",
    "    data = {}\n",
    "    for x,y in pairs:\n",
    "        data.setdefault(x, []).append(y)\n",
    "        data.setdefault(y, []).append(x)\n",
    "    return data\n",
    "\n",
    "\n",
    "\n",
    "pp(get_data(sample_data))\n",
    "pp(get_data(sample_data2))\n",
    "pp(get_data(sample_data3))\n",
    "\n"
   ]
  },
  {
   "cell_type": "code",
   "execution_count": 121,
   "metadata": {},
   "outputs": [
    {
     "name": "stdout",
     "output_type": "stream",
     "text": [
      "Received start.  Been to []\n",
      "Can go to ['A', 'b']\n",
      "Recursing: ['start'] to A\n",
      " Received A.  Been to ['start']\n",
      " Can go to ['c', 'b', 'end']\n",
      " Recursing: ['start', 'A'] to c\n",
      "  Received c.  Been to ['start', 'A']\n",
      "  Can go to ['A']\n",
      "  Recursing: ['start', 'A', 'c'] to A\n",
      "   Received A.  Been to ['start', 'A', 'c']\n",
      "   Can go to ['b', 'end']\n",
      "   Recursing: ['start', 'A', 'c', 'A'] to b\n",
      "    Received b.  Been to ['start', 'A', 'c', 'A']\n",
      "    Can go to ['A', 'd', 'end']\n",
      "    Recursing: ['start', 'A', 'c', 'A', 'b'] to A\n",
      "     Received A.  Been to ['start', 'A', 'c', 'A', 'b']\n",
      "     Can go to ['end']\n",
      "     End: ['start', 'A', 'c', 'A', 'b', 'A', 'end']\n",
      "    Recursing: ['start', 'A', 'c', 'A', 'b'] to d\n",
      "     Received d.  Been to ['start', 'A', 'c', 'A', 'b']\n",
      "     Can go to []\n",
      "    End: ['start', 'A', 'c', 'A', 'b', 'end']\n",
      "   End: ['start', 'A', 'c', 'A', 'end']\n",
      " Recursing: ['start', 'A'] to b\n",
      "  Received b.  Been to ['start', 'A']\n",
      "  Can go to ['A', 'd', 'end']\n",
      "  Recursing: ['start', 'A', 'b'] to A\n",
      "   Received A.  Been to ['start', 'A', 'b']\n",
      "   Can go to ['c', 'end']\n",
      "   Recursing: ['start', 'A', 'b', 'A'] to c\n",
      "    Received c.  Been to ['start', 'A', 'b', 'A']\n",
      "    Can go to ['A']\n",
      "    Recursing: ['start', 'A', 'b', 'A', 'c'] to A\n",
      "     Received A.  Been to ['start', 'A', 'b', 'A', 'c']\n",
      "     Can go to ['end']\n",
      "     End: ['start', 'A', 'b', 'A', 'c', 'A', 'end']\n",
      "   End: ['start', 'A', 'b', 'A', 'end']\n",
      "  Recursing: ['start', 'A', 'b'] to d\n",
      "   Received d.  Been to ['start', 'A', 'b']\n",
      "   Can go to []\n",
      "  End: ['start', 'A', 'b', 'end']\n",
      " End: ['start', 'A', 'end']\n",
      "Recursing: ['start'] to b\n",
      " Received b.  Been to ['start']\n",
      " Can go to ['A', 'd', 'end']\n",
      " Recursing: ['start', 'b'] to A\n",
      "  Received A.  Been to ['start', 'b']\n",
      "  Can go to ['c', 'end']\n",
      "  Recursing: ['start', 'b', 'A'] to c\n",
      "   Received c.  Been to ['start', 'b', 'A']\n",
      "   Can go to ['A']\n",
      "   Recursing: ['start', 'b', 'A', 'c'] to A\n",
      "    Received A.  Been to ['start', 'b', 'A', 'c']\n",
      "    Can go to ['end']\n",
      "    End: ['start', 'b', 'A', 'c', 'A', 'end']\n",
      "  End: ['start', 'b', 'A', 'end']\n",
      " Recursing: ['start', 'b'] to d\n",
      "  Received d.  Been to ['start', 'b']\n",
      "  Can go to []\n",
      " End: ['start', 'b', 'end']\n",
      "10\n"
     ]
    }
   ],
   "source": [
    "DEBUG = True\n",
    "def get_crap(data):\n",
    "    results = []\n",
    "    def recurse(node: str, visited: list, depth: int):\n",
    "        nonlocal results\n",
    "        pad = \" \" * depth\n",
    "        depth+=1\n",
    "        DEBUG and print(pad + f\"Received {node}.  Been to {visited}\")\n",
    "        eligible = [d for d in data[node] if d not in visited or d.isupper()]\n",
    "        DEBUG and print(pad + f\"Can go to {eligible}\")\n",
    "        for path in eligible:\n",
    "            branched = visited.copy()\n",
    "            branched.append(node)\n",
    "            if path != 'end':\n",
    "                DEBUG and print(pad + f\"Recursing: {branched} to {path}\")\n",
    "                recurse(path, branched, depth)\n",
    "            else:\n",
    "                branched.append(path)\n",
    "                DEBUG and print(pad + f\"End: {branched}\")\n",
    "                results.append(branched)\n",
    "\n",
    "    recurse('start', [], 0)\n",
    "    return results\n",
    "\n",
    "\n",
    "\n",
    "def do(sample_data):\n",
    "    data = get_data(sample_data)\n",
    "    results = sorted(get_crap(data))\n",
    "    print(len(results))\n",
    "\n",
    "do(sample_data)\n",
    "DEBUG = False"
   ]
  },
  {
   "cell_type": "code",
   "execution_count": 124,
   "metadata": {},
   "outputs": [
    {
     "name": "stdout",
     "output_type": "stream",
     "text": [
      "19\n"
     ]
    }
   ],
   "source": [
    "do(sample_data2)"
   ]
  },
  {
   "cell_type": "code",
   "execution_count": 125,
   "metadata": {},
   "outputs": [
    {
     "name": "stdout",
     "output_type": "stream",
     "text": [
      "226\n"
     ]
    }
   ],
   "source": [
    "do(sample_data3)"
   ]
  },
  {
   "cell_type": "code",
   "execution_count": 126,
   "metadata": {},
   "outputs": [
    {
     "name": "stdout",
     "output_type": "stream",
     "text": [
      "4792\n"
     ]
    }
   ],
   "source": [
    "real_data = open('d12.input').read()\n",
    "data = get_data(real_data)\n",
    "results = sorted(get_crap(data))\n",
    "print(len(results))\n",
    "\n"
   ]
  },
  {
   "cell_type": "code",
   "execution_count": 157,
   "metadata": {},
   "outputs": [
    {
     "name": "stdout",
     "output_type": "stream",
     "text": [
      "36\n"
     ]
    }
   ],
   "source": [
    "DEBUG = True\n",
    "small_cave = re.compile(r'^[a-z]{1,2}$').match\n",
    "from collections import Counter\n",
    "\n",
    "def get_different_crap(data):\n",
    "    results = []\n",
    "    def recurse(node: str, visited: list, depth: int):\n",
    "        nonlocal results\n",
    "        pad = \" \" * depth\n",
    "        depth+=1\n",
    "        eligible = []\n",
    "        DEBUG and print(pad + f\"Received {node}.  Been to {visited}\")\n",
    "        for neighbor in data[node]:\n",
    "            if neighbor not in visited:\n",
    "                eligible.append(neighbor)\n",
    "            elif neighbor.isupper():\n",
    "                eligible.append(neighbor)\n",
    "            elif len([v for v in visited + [node] if v == neighbor and small_cave(v)]) == 1:\n",
    "                if 2 not in Counter(v for v in visited + [node] if small_cave(v)).values():\n",
    "                    eligible.append(neighbor)\n",
    "        DEBUG and print(pad + f\"Can go to {eligible}\")\n",
    "        for path in eligible:\n",
    "            branched = visited.copy()\n",
    "            branched.append(node)\n",
    "            if path != 'end':\n",
    "                DEBUG and print(pad + f\"Recursing: {branched} to {path}\")\n",
    "                recurse(path, branched, depth)\n",
    "            else:\n",
    "                branched.append(path)\n",
    "                DEBUG and print(pad + f\"End: {branched}\")\n",
    "                results.append(branched)\n",
    "\n",
    "    recurse('start', [], 0)\n",
    "    return results\n",
    "\n",
    "\n",
    "\n",
    "def do_second(sample_data):\n",
    "    data = get_data(sample_data)\n",
    "    results = sorted(get_different_crap(data))\n",
    "    print(len(results))\n",
    "    return results\n",
    "DEBUG = False\n",
    "results = do_second(sample_data)\n",
    "# pp(results)\n",
    "# for r in results:\n",
    "#     print(r)\n",
    "#     print(Counter(v for v in r if small_cave(v)))\n",
    "DEBUG = False"
   ]
  },
  {
   "cell_type": "code",
   "execution_count": 153,
   "metadata": {},
   "outputs": [
    {
     "name": "stdout",
     "output_type": "stream",
     "text": [
      "      Received HN.  Been to ['start', 'HN', 'dc', 'kj', 'sa', 'kj']\n",
      "      Can go to ['end']\n",
      "      End: ['start', 'HN', 'dc', 'kj', 'sa', 'kj', 'HN', 'end']\n",
      "103\n"
     ]
    }
   ],
   "source": [
    "results = do_second(sample_data2)"
   ]
  },
  {
   "cell_type": "code",
   "execution_count": 154,
   "metadata": {},
   "outputs": [
    {
     "name": "stdout",
     "output_type": "stream",
     "text": [
      "3509\n"
     ]
    }
   ],
   "source": [
    "results = do_second(sample_data3)"
   ]
  },
  {
   "cell_type": "code",
   "execution_count": 158,
   "metadata": {},
   "outputs": [
    {
     "name": "stdout",
     "output_type": "stream",
     "text": [
      "133360\n"
     ]
    }
   ],
   "source": [
    "results = do_second(open('d12.input').read())"
   ]
  }
 ],
 "metadata": {
  "kernelspec": {
   "display_name": "Python 3.10.6 64-bit",
   "language": "python",
   "name": "python3"
  },
  "language_info": {
   "codemirror_mode": {
    "name": "ipython",
    "version": 3
   },
   "file_extension": ".py",
   "mimetype": "text/x-python",
   "name": "python",
   "nbconvert_exporter": "python",
   "pygments_lexer": "ipython3",
   "version": "3.10.6"
  },
  "orig_nbformat": 4,
  "vscode": {
   "interpreter": {
    "hash": "e7370f93d1d0cde622a1f8e1c04877d8463912d04d973331ad4851f04de6915a"
   }
  }
 },
 "nbformat": 4,
 "nbformat_minor": 2
}
