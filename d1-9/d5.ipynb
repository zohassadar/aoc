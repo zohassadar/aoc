{
 "cells": [
  {
   "cell_type": "code",
   "execution_count": 49,
   "metadata": {},
   "outputs": [
    {
     "name": "stdout",
     "output_type": "stream",
     "text": [
      "5\n"
     ]
    },
    {
     "data": {
      "text/plain": [
       "array([0, 0])"
      ]
     },
     "execution_count": 49,
     "metadata": {},
     "output_type": "execute_result"
    }
   ],
   "source": []
  },
  {
   "cell_type": "code",
   "execution_count": null,
   "metadata": {},
   "outputs": [],
   "source": [
    "import re\n",
    "import numpy as np\n",
    "from math import prod\n",
    "sample_data = \"\"\"0,9 -> 5,9\n",
    "8,0 -> 0,8\n",
    "9,4 -> 3,4\n",
    "2,2 -> 2,1\n",
    "7,0 -> 7,4\n",
    "6,4 -> 2,0\n",
    "0,9 -> 2,9\n",
    "3,4 -> 1,4\n",
    "0,0 -> 8,8\n",
    "5,5 -> 8,2\"\"\"\n",
    "\n",
    "\n",
    "def get_array(data):\n",
    "    array = np.array(data, dtype=int)\n",
    "    array.shape = len(data) // 4, 4\n",
    "    return array\n",
    "\n",
    "def get_equals(array):\n",
    "    for y,row in enumerate(array):\n",
    "        pass\n",
    "\n",
    "\n",
    "\n",
    "\n",
    "sample_data = re.findall(r'(\\d+)', sample_data)\n",
    "\n",
    "data = open('d5.input').read()\n",
    "data = re.findall(r'(\\d+)', data)\n",
    "\n",
    "def condition(array):\n",
    "    return True\n",
    "\n",
    "\n",
    "array = get_array(sample_data)\n",
    "# array = array[np.where((array[:,1] == array[:,3]) | (array[:,0] == array[:,2]))]\n",
    "\n",
    "\n",
    "width=np.max(array[:,[0,2]]) + 1\n",
    "height = np.max(array[:,[1,3]]) + 1\n",
    "\n",
    "\n",
    "\n",
    "grid = np.zeros(width*height, dtype=int)\n",
    "grid.shape = width,height\n",
    "grid\n",
    "\n",
    "def get_sorted(n1, n2):\n",
    "    start, finish = sorted((n1,n2))\n",
    "    start, finish = start, finish+1\n",
    "    return start, finish\n",
    "\n",
    "for x1,y1,x2,y2 in array:\n",
    "    if x1 == x2:\n",
    "        start, finish = get_sorted(y1,y2)\n",
    "        grid[start:finish, x1] += 1\n",
    "    if y1 == y2:\n",
    "        start, finish = get_sorted(x1,x2)\n",
    "        grid[y1, start:finish] += 1\n",
    "\n",
    "\n",
    "\n",
    "print (len(np.argwhere(grid>1)))\n",
    "\n",
    "\n",
    "\n"
   ]
  },
  {
   "cell_type": "code",
   "execution_count": 62,
   "metadata": {},
   "outputs": [
    {
     "name": "stdout",
     "output_type": "stream",
     "text": [
      "[[0 0 0 ... 0 0 0]\n",
      " [0 0 0 ... 0 0 0]\n",
      " [0 0 0 ... 0 0 0]\n",
      " ...\n",
      " [0 0 0 ... 0 0 0]\n",
      " [0 0 0 ... 0 0 0]\n",
      " [0 0 0 ... 0 0 0]]\n",
      "22037\n"
     ]
    }
   ],
   "source": [
    "import re\n",
    "import numpy as np\n",
    "from math import prod\n",
    "sample_data = \"\"\"0,9 -> 5,9\n",
    "8,0 -> 0,8\n",
    "9,4 -> 3,4\n",
    "2,2 -> 2,1\n",
    "7,0 -> 7,4\n",
    "6,4 -> 2,0\n",
    "0,9 -> 2,9\n",
    "3,4 -> 1,4\n",
    "0,0 -> 8,8\n",
    "5,5 -> 8,2\"\"\"\n",
    "\n",
    "\n",
    "def get_array(data):\n",
    "    array = np.array(data, dtype=int)\n",
    "    array.shape = len(data) // 4, 4\n",
    "    return array\n",
    "\n",
    "def get_equals(array):\n",
    "    for y,row in enumerate(array):\n",
    "        pass\n",
    "\n",
    "\n",
    "\n",
    "\n",
    "sample_data = re.findall(r'(\\d+)', sample_data)\n",
    "\n",
    "data = open('d5.input').read()\n",
    "data = re.findall(r'(\\d+)', data)\n",
    "\n",
    "def condition(array):\n",
    "    return True\n",
    "\n",
    "\n",
    "array = get_array(data)\n",
    "# array = array[np.where((array[:,1] == array[:,3]) | (array[:,0] == array[:,2]))]\n",
    "\n",
    "\n",
    "width=np.max(array[:,[0,2]]) + 1\n",
    "height = np.max(array[:,[1,3]]) + 1\n",
    "\n",
    "\n",
    "\n",
    "grid = np.zeros(width*height, dtype=int)\n",
    "grid.shape = width,height\n",
    "\n",
    "for x1,y1,x2,y2 in array:\n",
    "    xstep = 1 if x1 < x2 else -1\n",
    "    ystep = 1 if y1 < y2 else -1\n",
    "    if x1 == x2:\n",
    "        grid[y1:y2+ystep:ystep, x1] += 1\n",
    "    elif y1 == y2:\n",
    "        grid[y1, x1:x2+xstep:xstep] += 1\n",
    "    if x1 != x2 and y1 != y2:\n",
    "        for dy, dx in zip(range(y1,y2+ystep,ystep),range(x1,x2+xstep,xstep)):\n",
    "            grid[dy,dx] += 1\n",
    "        \n",
    "\n",
    "\n",
    "print (grid)\n",
    "print (len(np.argwhere(grid>1)))\n",
    "\n",
    "\n",
    "\n"
   ]
  }
 ],
 "metadata": {
  "kernelspec": {
   "display_name": "Python 3.10.6 64-bit",
   "language": "python",
   "name": "python3"
  },
  "language_info": {
   "codemirror_mode": {
    "name": "ipython",
    "version": 3
   },
   "file_extension": ".py",
   "mimetype": "text/x-python",
   "name": "python",
   "nbconvert_exporter": "python",
   "pygments_lexer": "ipython3",
   "version": "3.10.6"
  },
  "orig_nbformat": 4,
  "vscode": {
   "interpreter": {
    "hash": "e7370f93d1d0cde622a1f8e1c04877d8463912d04d973331ad4851f04de6915a"
   }
  }
 },
 "nbformat": 4,
 "nbformat_minor": 2
}
