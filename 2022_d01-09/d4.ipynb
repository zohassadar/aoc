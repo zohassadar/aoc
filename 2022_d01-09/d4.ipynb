{
 "cells": [
  {
   "cell_type": "code",
   "execution_count": 6,
   "metadata": {},
   "outputs": [
    {
     "data": {
      "text/plain": [
       "2"
      ]
     },
     "execution_count": 6,
     "metadata": {},
     "output_type": "execute_result"
    }
   ],
   "source": [
    "import re\n",
    "from pprint import pp\n",
    "\n",
    "\n",
    "sample = \"\"\"2-4,6-8\n",
    "2-3,4-5\n",
    "5-7,7-9\n",
    "2-8,3-7\n",
    "6-6,4-6\n",
    "2-6,4-8\"\"\"\n",
    "\n",
    "find_ranges = re.compile(r'(\\d+)-(\\d+),(\\d+)-(\\d+)').findall\n",
    "\n",
    "def get_data(data):\n",
    "    ranges = find_ranges(data)\n",
    "    return [[int(i) for i in range_] for range_ in ranges]\n",
    "\n",
    "def get_count(data):\n",
    "    count = 0\n",
    "    for x1,x2,y1,y2 in data:\n",
    "        if (x1 >= y1 and x2 <= y2) or (y1 >= x1 and y2 <= x2):\n",
    "            count+=1\n",
    "    return count\n",
    "\n",
    "get_count(get_data(sample))"
   ]
  },
  {
   "cell_type": "code",
   "execution_count": 7,
   "metadata": {},
   "outputs": [
    {
     "data": {
      "text/plain": [
       "507"
      ]
     },
     "execution_count": 7,
     "metadata": {},
     "output_type": "execute_result"
    }
   ],
   "source": [
    "get_count(get_data(open('d4.input').read()))"
   ]
  },
  {
   "cell_type": "code",
   "execution_count": 20,
   "metadata": {},
   "outputs": [
    {
     "data": {
      "text/plain": [
       "4"
      ]
     },
     "execution_count": 20,
     "metadata": {},
     "output_type": "execute_result"
    }
   ],
   "source": [
    "from collections import Counter\n",
    "def get_other_count(data):\n",
    "    count = 0\n",
    "    for x1,x2,y1,y2 in data:\n",
    "        if [(k,v) for k,v in Counter(list(range(x1,x2+1)) + list(range(y1,y2+1))).items() if v > 1]:\n",
    "            count+=1\n",
    "    return count\n",
    "\n",
    "get_other_count(get_data(sample))"
   ]
  },
  {
   "cell_type": "code",
   "execution_count": 21,
   "metadata": {},
   "outputs": [
    {
     "data": {
      "text/plain": [
       "897"
      ]
     },
     "execution_count": 21,
     "metadata": {},
     "output_type": "execute_result"
    }
   ],
   "source": [
    "get_other_count(get_data(open('d4.input').read()))"
   ]
  }
 ],
 "metadata": {
  "kernelspec": {
   "display_name": "Python 3.11.0rc1 64-bit",
   "language": "python",
   "name": "python3"
  },
  "language_info": {
   "codemirror_mode": {
    "name": "ipython",
    "version": 3
   },
   "file_extension": ".py",
   "mimetype": "text/x-python",
   "name": "python",
   "nbconvert_exporter": "python",
   "pygments_lexer": "ipython3",
   "version": "3.11.0rc1"
  },
  "orig_nbformat": 4,
  "vscode": {
   "interpreter": {
    "hash": "ead1b95f633dc9c51826328e1846203f51a198c6fb5f2884a80417ba131d4e82"
   }
  }
 },
 "nbformat": 4,
 "nbformat_minor": 2
}
