{
 "cells": [
  {
   "cell_type": "code",
   "execution_count": 5,
   "metadata": {},
   "outputs": [
    {
     "name": "stdout",
     "output_type": "stream",
     "text": [
      "{'A': 27, 'B': 28, 'C': 29, 'D': 30, 'E': 31, 'F': 32, 'G': 33, 'H': 34, 'I': 35, 'J': 36, 'K': 37, 'L': 38, 'M': 39, 'N': 40, 'O': 41, 'P': 42, 'Q': 43, 'R': 44, 'S': 45, 'T': 46, 'U': 47, 'V': 48, 'W': 49, 'X': 50, 'Y': 51, 'Z': 52, 'a': 1, 'b': 2, 'c': 3, 'd': 4, 'e': 5, 'f': 6, 'g': 7, 'h': 8, 'i': 9, 'j': 10, 'k': 11, 'l': 12, 'm': 13, 'n': 14, 'o': 15, 'p': 16, 'q': 17, 'r': 18, 's': 19, 't': 20, 'u': 21, 'v': 22, 'w': 23, 'x': 24, 'y': 25, 'z': 26}\n",
      "dup='p' 16\n",
      "dup='L' 38\n",
      "dup='P' 42\n",
      "dup='v' 22\n",
      "dup='t' 20\n",
      "dup='s' 19\n"
     ]
    },
    {
     "data": {
      "text/plain": [
       "157"
      ]
     },
     "execution_count": 5,
     "metadata": {},
     "output_type": "execute_result"
    }
   ],
   "source": [
    "from collections import Counter\n",
    "from string import ascii_lowercase as lower\n",
    "from string import ascii_uppercase as upper\n",
    "\n",
    "\n",
    "\n",
    "priorities = {l: ord(l) - 38 for l in upper}\n",
    "priorities.update({l: ord(l) - 96 for l in lower})\n",
    "print (priorities)\n",
    "\n",
    "sample = \"\"\"vJrwpWtwJgWrhcsFMMfFFhFp\n",
    "jqHRNqRjqzjGDLGLrsFMfFZSrLrFZsSL\n",
    "PmmdzqPrVvPwwTWBwg\n",
    "wMqvLMZHhHMvwLHjbvcjnnSBnvTQFn\n",
    "ttgJtRGJQctTZtZT\n",
    "CrZsJsPPZsGzwwsLwLmpwMDw\"\"\"\n",
    "\n",
    "\n",
    "\n",
    "def get_data(data):\n",
    "    results = []\n",
    "    score = 0\n",
    "    for line in data.splitlines():\n",
    "        length = len(line) // 2\n",
    "        uniqs = []\n",
    "        uniqs.extend(set(line[:length]))\n",
    "        uniqs.extend(set(line[length:]))\n",
    "        commons = Counter\n",
    "        for dup in [k for k,v in Counter(uniqs).items() if v > 1]:\n",
    "            DEBUG and print (f'{dup=} {priorities[dup]}')\n",
    "            score += priorities[dup]\n",
    "    return score\n",
    "\n",
    "DEBUG = True\n",
    "get_data(sample)\n",
    "\n",
    "\n"
   ]
  },
  {
   "cell_type": "code",
   "execution_count": 7,
   "metadata": {},
   "outputs": [
    {
     "data": {
      "text/plain": [
       "8123"
      ]
     },
     "execution_count": 7,
     "metadata": {},
     "output_type": "execute_result"
    }
   ],
   "source": [
    "DEBUG = False\n",
    "realdeal = open('d3.input').read()\n",
    "get_data(realdeal)"
   ]
  },
  {
   "cell_type": "code",
   "execution_count": 14,
   "metadata": {},
   "outputs": [
    {
     "name": "stdout",
     "output_type": "stream",
     "text": [
      "dup='r' 18\n",
      "dup='Z' 52\n"
     ]
    },
    {
     "data": {
      "text/plain": [
       "2620"
      ]
     },
     "execution_count": 14,
     "metadata": {},
     "output_type": "execute_result"
    }
   ],
   "source": [
    "def get_data(data):\n",
    "    results = []\n",
    "    score = 0\n",
    "    dsplit = data.splitlines()\n",
    "    dlen = len(dsplit)\n",
    "\n",
    "    for line1,line2,line3 in zip(dsplit[0:dlen:3], dsplit[1:dlen:3], dsplit[2:dlen:3]):\n",
    "        uniqs = []\n",
    "        for line in line1,line2,line3:\n",
    "            uniqs.extend(set(line))\n",
    "        for dup in [k for k,v in Counter(uniqs).items() if v > 2]:\n",
    "            DEBUG and print (f'{dup=} {priorities[dup]}')\n",
    "            score += priorities[dup]\n",
    "    return score\n",
    "\n",
    "\n",
    "DEBUG = True\n",
    "get_data(sample)\n",
    "\n",
    "DEBUG = False\n",
    "get_data(realdeal)"
   ]
  }
 ],
 "metadata": {
  "kernelspec": {
   "display_name": "Python 3.11.0rc1 64-bit",
   "language": "python",
   "name": "python3"
  },
  "language_info": {
   "codemirror_mode": {
    "name": "ipython",
    "version": 3
   },
   "file_extension": ".py",
   "mimetype": "text/x-python",
   "name": "python",
   "nbconvert_exporter": "python",
   "pygments_lexer": "ipython3",
   "version": "3.11.0"
  },
  "orig_nbformat": 4,
  "vscode": {
   "interpreter": {
    "hash": "ead1b95f633dc9c51826328e1846203f51a198c6fb5f2884a80417ba131d4e82"
   }
  }
 },
 "nbformat": 4,
 "nbformat_minor": 2
}
