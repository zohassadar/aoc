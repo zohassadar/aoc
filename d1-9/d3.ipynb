{
 "cells": [
  {
   "cell_type": "code",
   "execution_count": 36,
   "metadata": {},
   "outputs": [],
   "source": [
    "import numpy as np\n",
    "import re\n",
    "\n",
    "data_raw = open('d3.input').read()\n"
   ]
  },
  {
   "cell_type": "code",
   "execution_count": 15,
   "metadata": {},
   "outputs": [
    {
     "name": "stdout",
     "output_type": "stream",
     "text": [
      "198\n"
     ]
    }
   ],
   "source": [
    "\n",
    "\n",
    "sample_data_raw = \"\"\"00100\n",
    "11110\n",
    "10110\n",
    "10111\n",
    "10101\n",
    "01111\n",
    "00111\n",
    "11100\n",
    "10000\n",
    "11001\n",
    "00010\n",
    "01010\"\"\"\n",
    "\n",
    "\n",
    "\n",
    "array = np.array(data, dtype=int)\n",
    "array.shape = len(data)//5,5\n",
    "array\n",
    "\n",
    "mx = lambda i: np.argmax(np.bincount(array[:,i]))\n",
    "mn = lambda i: np.argmin(np.bincount(array[:,i]))\n",
    "\n",
    "rate = lambda f: int(''.join(str(f(i)) for i in range(5)),2)\n",
    "\n",
    "gamma = rate(mx)\n",
    "epsilon = rate(mn)\n",
    "\n",
    "print(gamma*epsilon)\n",
    "\n",
    "\n"
   ]
  },
  {
   "cell_type": "code",
   "execution_count": 31,
   "metadata": {},
   "outputs": [],
   "source": [
    "def get_array(raw_data):\n",
    "    width = len(raw_data.splitlines()[0])\n",
    "    data = re.findall('[01]', raw_data)\n",
    "    array = np.array(data, dtype=int)\n",
    "    array.shape = len(data)//width, width\n",
    "    return array, width"
   ]
  },
  {
   "cell_type": "code",
   "execution_count": 27,
   "metadata": {},
   "outputs": [],
   "source": [
    "def mx(column, array):\n",
    "    return np.argmax(np.bincount(array[:,column]))\n",
    "\n",
    "def mn(column, array):\n",
    "    return np.argmin(np.bincount(array[:,column]))\n",
    "\n",
    "\n",
    "def extract(func, array, width):\n",
    "    return int(''.join(str(func(i, array)) for i in range(width)),2)\n",
    "\n",
    "\n",
    "def calculate(array, width):\n",
    "    gamma = extract(mx, array, width)\n",
    "    epsilon = extract(mn, array, width)\n",
    "    return (gamma*epsilon)\n",
    "\n"
   ]
  },
  {
   "cell_type": "code",
   "execution_count": 33,
   "metadata": {},
   "outputs": [
    {
     "data": {
      "text/plain": [
       "198"
      ]
     },
     "execution_count": 33,
     "metadata": {},
     "output_type": "execute_result"
    }
   ],
   "source": [
    "calculate(*get_array(sample_data_raw))"
   ]
  },
  {
   "cell_type": "code",
   "execution_count": 39,
   "metadata": {},
   "outputs": [
    {
     "data": {
      "text/plain": [
       "1540244"
      ]
     },
     "execution_count": 39,
     "metadata": {},
     "output_type": "execute_result"
    }
   ],
   "source": [
    "calculate(*get_array(data_raw))"
   ]
  },
  {
   "cell_type": "code",
   "execution_count": 62,
   "metadata": {},
   "outputs": [
    {
     "data": {
      "text/plain": [
       "4203981"
      ]
     },
     "execution_count": 62,
     "metadata": {},
     "output_type": "execute_result"
    }
   ],
   "source": [
    "sample_array, width = get_array(sample_data_raw)\n",
    "sample_array \n",
    "\n",
    "sample_array[sample_array[:,0] == 1]\n",
    "\n",
    "\n",
    "def get_oxygen(array):\n",
    "    i = 0\n",
    "    for x in range(12):\n",
    "        gamma = mx(i, array)\n",
    "        epsilon = mn(i, array)\n",
    "        if gamma == epsilon:\n",
    "            gamma = 1\n",
    "        filtered = array[array[:,i] == gamma]\n",
    "        if len(filtered) == 1:\n",
    "            return int(''.join(str(i) for i in filtered[0]), 2)\n",
    "        i+=1\n",
    "        array = filtered\n",
    "        \n",
    "def get_co2(array):\n",
    "    i = 0\n",
    "    for x in range(12):\n",
    "        gamma = mx(i, array)\n",
    "        epsilon = mn(i, array)\n",
    "        if gamma == epsilon:\n",
    "            gamma = 0\n",
    "        filtered = array[array[:,i] == epsilon]\n",
    "        if len(filtered) == 1:\n",
    "            return int(''.join(str(i) for i in filtered[0]), 2)\n",
    "        i+=1\n",
    "        array = filtered\n",
    "        \n",
    "\n",
    "array, width = get_array(data_raw)\n",
    "\n",
    "o2 = get_oxygen(array)\n",
    "co2 = get_co2(array)\n",
    "\n",
    "o2 * co2\n",
    "\n",
    "        "
   ]
  }
 ],
 "metadata": {
  "kernelspec": {
   "display_name": "Python 3.10.6 64-bit",
   "language": "python",
   "name": "python3"
  },
  "language_info": {
   "codemirror_mode": {
    "name": "ipython",
    "version": 3
   },
   "file_extension": ".py",
   "mimetype": "text/x-python",
   "name": "python",
   "nbconvert_exporter": "python",
   "pygments_lexer": "ipython3",
   "version": "3.10.6"
  },
  "orig_nbformat": 4,
  "vscode": {
   "interpreter": {
    "hash": "e7370f93d1d0cde622a1f8e1c04877d8463912d04d973331ad4851f04de6915a"
   }
  }
 },
 "nbformat": 4,
 "nbformat_minor": 2
}
