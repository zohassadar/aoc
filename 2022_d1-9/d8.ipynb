{
 "cells": [
  {
   "cell_type": "code",
   "execution_count": 2,
   "metadata": {},
   "outputs": [],
   "source": [
    "import numpy as np\n",
    "import re\n",
    "\n",
    "\n",
    "sample=\"\"\"30373\n",
    "25512\n",
    "65332\n",
    "33549\n",
    "35390\"\"\"\n",
    "\n",
    "\n",
    "def convert_grid(data):\n",
    "    lines = data.split()\n",
    "    width = len(lines[0])\n",
    "    numbers = [int(i) for i in re.findall(r'\\d', data)]\n",
    "    array = np.array(numbers, dtype=int)\n",
    "    array.shape = len(numbers) // width, width\n",
    "    return array\n",
    "\n",
    "\n",
    "\n",
    "def get_visible(trees):\n",
    "    visible = set()\n",
    "    for y,row in enumerate(trees):\n",
    "        for x,col in enumerate(row):\n",
    "            west = trees[y, :x] \n",
    "            east = trees[y, x+1:]\n",
    "            north = trees[:y, x]\n",
    "            south = trees[y+1:, x]\n",
    "            if west.size > 0 and col > west.max() or west.size == 0:\n",
    "                visible.add((y,x))\n",
    "            if east.size > 0 and col > east.max() or east.size == 0:\n",
    "                visible.add((y,x))\n",
    "            if north.size > 0 and col > north.max() or north.size == 0:\n",
    "                visible.add((y,x))\n",
    "            if south.size > 0 and col > south.max() or south.size == 0:\n",
    "                visible.add((y,x))\n",
    "    return visible\n"
   ]
  },
  {
   "cell_type": "code",
   "execution_count": 3,
   "metadata": {},
   "outputs": [
    {
     "name": "stdout",
     "output_type": "stream",
     "text": [
      "21\n"
     ]
    }
   ],
   "source": [
    "\n",
    "trees = convert_grid(sample)\n",
    "print(len(get_visible(trees)))\n"
   ]
  },
  {
   "cell_type": "code",
   "execution_count": 79,
   "metadata": {},
   "outputs": [
    {
     "name": "stdout",
     "output_type": "stream",
     "text": [
      "1705\n"
     ]
    }
   ],
   "source": [
    "\n",
    "real = open('d8.input').read()\n",
    "\n",
    "trees = convert_grid(real)\n",
    "print(len(get_visible(trees)))\n"
   ]
  },
  {
   "cell_type": "code",
   "execution_count": 76,
   "metadata": {},
   "outputs": [],
   "source": [
    "\n",
    "DEBUG = False\n",
    "from math import prod\n",
    "\n",
    "def get_score(elements, height):\n",
    "    score = 0\n",
    "    for t in elements:\n",
    "        score += 1\n",
    "        if t >= height:\n",
    "            break\n",
    "    return score\n",
    "            \n",
    "\n",
    "def get_scores(trees):\n",
    "    total_scores = list()\n",
    "    for y,row in enumerate(trees):\n",
    "        for x,col in enumerate(row):\n",
    "            scores = []\n",
    "            DEBUG = bool((3,2) == (y,x))\n",
    "\n",
    "            west = trees[y, :x][::-1]\n",
    "            scores.append(get_score(west, col))\n",
    "            DEBUG and print (f'{col=} {scores=} {west=} {DEBUG=} {len(west)}')\n",
    "\n",
    "            east = trees[y, x+1:]\n",
    "            DEBUG and print (f'{col=} {scores=} {east=} {DEBUG=}')\n",
    "            scores.append(get_score(east, col))\n",
    "\n",
    "            north = trees[:y, x][::-1]\n",
    "            DEBUG and print (f'{col=} {scores=} {north=} {DEBUG=}')\n",
    "            scores.append(get_score(north, col))\n",
    "\n",
    "            south = trees[y+1:, x]\n",
    "            DEBUG and print (f'{col=} {scores=} {south=} {DEBUG=}')\n",
    "            scores.append(get_score(south, col))\n",
    "            score = prod(scores)\n",
    "            DEBUG and print (f'{score}')\n",
    "            total_scores.append(score)\n",
    "    return total_scores\n",
    "    "
   ]
  },
  {
   "cell_type": "code",
   "execution_count": 80,
   "metadata": {},
   "outputs": [
    {
     "name": "stdout",
     "output_type": "stream",
     "text": [
      "col=5 scores=[2] west=array([3, 3]) DEBUG=True 2\n",
      "col=5 scores=[2] east=array([4, 9]) DEBUG=True\n",
      "col=5 scores=[2, 2] north=array([3, 5, 3]) DEBUG=True\n",
      "col=5 scores=[2, 2, 2] south=array([3]) DEBUG=True\n",
      "8\n",
      "8\n"
     ]
    }
   ],
   "source": [
    "\n",
    "DEBUG = True\n",
    "trees = convert_grid(sample)\n",
    "\n",
    "scores = get_scores(trees)\n",
    "\n",
    "\n",
    "print(max(scores))\n",
    "\n"
   ]
  },
  {
   "cell_type": "code",
   "execution_count": 81,
   "metadata": {},
   "outputs": [
    {
     "name": "stdout",
     "output_type": "stream",
     "text": [
      "col=1 scores=[1] west=array([1, 0]) DEBUG=True 2\n",
      "col=1 scores=[1] east=array([3, 1, 2, 2, 1, 0, 4, 2, 0, 4, 4, 2, 0, 4, 3, 1, 5, 5, 2, 3, 3, 3,\n",
      "       0, 5, 2, 0, 1, 3, 0, 5, 6, 4, 3, 4, 4, 5, 2, 2, 4, 3, 3, 4, 3, 0,\n",
      "       3, 3, 1, 0, 2, 5, 3, 2, 2, 5, 2, 0, 5, 6, 0, 1, 2, 6, 5, 2, 3, 3,\n",
      "       4, 5, 4, 4, 0, 0, 2, 1, 4, 1, 1, 4, 3, 2, 2, 1, 3, 1, 4, 2, 0, 2,\n",
      "       2, 4, 0, 2, 2, 3, 1, 3]) DEBUG=True\n",
      "col=1 scores=[1, 1] north=array([1, 1, 3]) DEBUG=True\n",
      "col=1 scores=[1, 1, 1] south=array([0, 3, 0, 1, 0, 0, 4, 4, 1, 1, 4, 0, 3, 0, 0, 5, 5, 4, 5, 0, 5, 3,\n",
      "       2, 3, 1, 1, 4, 3, 1, 1, 2, 5, 5, 2, 2, 5, 6, 6, 1, 4, 6, 2, 6, 2,\n",
      "       6, 4, 1, 6, 2, 4, 3, 2, 2, 2, 2, 1, 0, 5, 6, 4, 2, 2, 0, 0, 4, 1,\n",
      "       2, 3, 5, 5, 0, 0, 5, 5, 0, 0, 5, 0, 3, 3, 2, 2, 4, 1, 2, 1, 2, 2,\n",
      "       4, 2, 3, 1, 3, 1, 1]) DEBUG=True\n",
      "2\n",
      "371200\n"
     ]
    }
   ],
   "source": [
    "DEBUG = False\n",
    "trees = convert_grid(real)\n",
    "\n",
    "scores = get_scores(trees)\n",
    "\n",
    "\n",
    "print(max(scores))"
   ]
  }
 ],
 "metadata": {
  "kernelspec": {
   "display_name": "Python 3.11.0rc1 64-bit",
   "language": "python",
   "name": "python3"
  },
  "language_info": {
   "codemirror_mode": {
    "name": "ipython",
    "version": 3
   },
   "file_extension": ".py",
   "mimetype": "text/x-python",
   "name": "python",
   "nbconvert_exporter": "python",
   "pygments_lexer": "ipython3",
   "version": "3.11.0rc1"
  },
  "orig_nbformat": 4,
  "vscode": {
   "interpreter": {
    "hash": "ead1b95f633dc9c51826328e1846203f51a198c6fb5f2884a80417ba131d4e82"
   }
  }
 },
 "nbformat": 4,
 "nbformat_minor": 2
}
