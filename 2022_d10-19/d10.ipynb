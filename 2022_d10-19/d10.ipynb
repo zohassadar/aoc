{
 "cells": [
  {
   "cell_type": "code",
   "execution_count": 62,
   "metadata": {},
   "outputs": [
    {
     "name": "stdout",
     "output_type": "stream",
     "text": [
      "14160\n",
      "###....##.####.###..###..####.####..##..\n",
      "#..#....#.#....#..#.#..#.#....#....#..#.\n",
      "#..#....#.###..#..#.#..#.###..###..#....\n",
      "###.....#.#....###..###..#....#....#....\n",
      "#.#..#..#.#....#.#..#....#....#....#..#.\n",
      "#..#..##..####.#..#.#....####.#.....##..\n"
     ]
    }
   ],
   "source": [
    "import re\n",
    "\n",
    "small_sample = \"\"\"noop\n",
    "addx 3\n",
    "addx -5\"\"\"\n",
    "\n",
    "\n",
    "def get_data(data):\n",
    "    instructions = re.findall(r'(noop|addx)(?: (-?\\d+))?', data)\n",
    "    results = []\n",
    "    for inst, amt in instructions:\n",
    "        if inst == \"addx\":\n",
    "            results.append(int(amt))\n",
    "        else:\n",
    "            results.append(None)\n",
    "    return results\n",
    "\n",
    "\n",
    "sample = open('d10.sample').read()\n",
    "\n",
    "real = open('d10.input').read()\n",
    "\n",
    "\n",
    "i = 0\n",
    "x = 1\n",
    "adding = False\n",
    "instructions = iter(get_data(real))\n",
    "cycles = tuple(range(20,221,40))\n",
    "strengths = []\n",
    "line = \"\"\n",
    "while True:\n",
    "    try:\n",
    "        if not adding:\n",
    "            inst = next(instructions)\n",
    "    except StopIteration:\n",
    "        break\n",
    "    imod = i % 40\n",
    "    if imod == x or imod + 1 == x or imod - 1 == x:\n",
    "        line = line + \"#\"\n",
    "    else:\n",
    "        line = line + \".\"\n",
    "    i+=1\n",
    "    if i in cycles:\n",
    "        strengths.append(i*x)\n",
    "    if adding:\n",
    "        adding = False\n",
    "        x+=inst\n",
    "        continue\n",
    "    if inst is None:\n",
    "        continue\n",
    "    adding = True\n",
    "\n",
    "\n",
    "\n",
    "\n",
    "print(sum(strengths))\n",
    "for i in range(0,len(line), 40):\n",
    "    print(''.join(line[i:i+40]))\n",
    "\n",
    "\n",
    "\n",
    "\n",
    "\n"
   ]
  }
 ],
 "metadata": {
  "kernelspec": {
   "display_name": "Python 3.11.0rc1 64-bit",
   "language": "python",
   "name": "python3"
  },
  "language_info": {
   "codemirror_mode": {
    "name": "ipython",
    "version": 3
   },
   "file_extension": ".py",
   "mimetype": "text/x-python",
   "name": "python",
   "nbconvert_exporter": "python",
   "pygments_lexer": "ipython3",
   "version": "3.11.0rc1"
  },
  "orig_nbformat": 4,
  "vscode": {
   "interpreter": {
    "hash": "ead1b95f633dc9c51826328e1846203f51a198c6fb5f2884a80417ba131d4e82"
   }
  }
 },
 "nbformat": 4,
 "nbformat_minor": 2
}
