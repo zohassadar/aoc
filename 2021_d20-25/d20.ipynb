{
 "cells": [
  {
   "cell_type": "code",
   "execution_count": null,
   "metadata": {},
   "outputs": [],
   "source": [
    "import numpy as np\n",
    "from collections import deque\n",
    "from itertools import islice, chain\n",
    "\n",
    "\n",
    "sample_decoder = (\"..#.#..#####.#.#.#.###.##.....###.##.#..###.####..#####..#....#..#..##..##\"\n",
    "\"#..######.###...####..#..#####..##..#.#####...##.#.#..#.##..#.#......#.###\"\n",
    "\".######.###.####...#.##.##..#..#..#####.....#.#....###..#.##......#.....#.\"\n",
    "\".#..#..##..#...##.######.####.####.#.#...#.......#..#.#.#...####.##.#.....\"\n",
    "\".#..#...##.#.##..#...##.#.##..###.#......#.#.......#.#.#.####.###.##...#..\"\n",
    "\"...####.#..#..#.##.#....##..#.####....##...##..#...#......#.#.......#.....\"\n",
    "\"..##..####..#...#.#.#...##..#.#..###..#####........#..####......#..#\")\n",
    "\n",
    "sample = \"\"\"#..#.\n",
    "#....\n",
    "##..#\n",
    "..#..\n",
    "..###\"\"\"\n",
    "\n",
    "\n",
    "real_decoder, real_input = open('d20.input').read().split('\\n', 1)\n",
    "real_decoder = real_decoder.strip()\n",
    "real_input = real_input.strip()\n",
    "\n",
    "print(len(real_decoder))\n",
    "print(real_input)\n"
   ]
  },
  {
   "cell_type": "code",
   "execution_count": null,
   "metadata": {},
   "outputs": [],
   "source": [
    "\n",
    "from pprint import pp\n",
    "\n",
    "def create_decoder(decoder):\n",
    "    return {f'{i:09b}'.replace(\"0\", \".\").replace(\"1\", \"#\"): p for i,p in enumerate(decoder)}\n",
    "\n",
    "pp(create_decoder(sample_decoder))"
   ]
  },
  {
   "cell_type": "code",
   "execution_count": 27,
   "metadata": {},
   "outputs": [
    {
     "name": "stdout",
     "output_type": "stream",
     "text": [
      "#..#.\n",
      "#....\n",
      "##..#\n",
      "..#..\n",
      "..###\n",
      "\n",
      ".........\n",
      "..##.##..\n",
      ".#..#.#..\n",
      ".##.#..#.\n",
      ".####..#.\n",
      "..#..##..\n",
      "...##..#.\n",
      "....#.#..\n",
      ".........\n",
      "\n",
      "35\n",
      "3351\n"
     ]
    }
   ],
   "source": [
    "def sliding_window(iterable, n):\n",
    "    # sliding_window('ABCDEFG', 4) --> ABCD BCDE CDEF DEFG\n",
    "    it = iter(iterable)\n",
    "    window = deque(islice(it, n), maxlen=n)\n",
    "    if len(window) == n:\n",
    "        yield tuple(window)\n",
    "    for x in it:\n",
    "        window.append(x)\n",
    "        yield tuple(window)\n",
    "\n",
    "def pad_data(data):\n",
    "    data_split = data.splitlines()\n",
    "    results = []\n",
    "    first_line = data_split[0]\n",
    "    fc = first_line[1]\n",
    "    width = len(first_line)\n",
    "    for _ in range(3):\n",
    "        results.append(fc * 6 + fc * width)\n",
    "    for line in data_split:\n",
    "        results.append(fc * 3 + line + fc * 3)\n",
    "    for _ in range(3):\n",
    "        results.append(fc * 6 + fc * width)\n",
    "    return results\n",
    "\n",
    "\n",
    "def portion_data(data, decoder):\n",
    "    padded = pad_data(data)\n",
    "    results = []\n",
    "    for line1, line2, line3 in sliding_window(padded, 3):\n",
    "        result = ''\n",
    "        for groups in zip(sliding_window(line1, 3), sliding_window(line2, 3), sliding_window(line3, 3)):\n",
    "            key = ''.join(chain(*groups))\n",
    "            pixel = decoder[key]\n",
    "            result += pixel\n",
    "        results.append(result)\n",
    "    return \"\\n\".join(results)\n",
    "\n",
    "\n",
    "decoder = create_decoder(sample_decoder)\n",
    "result = portion_data(sample, decoder)\n",
    "print(sample)\n",
    "print(\"\")\n",
    "print(result)\n",
    "print(\"\")\n",
    "\n",
    "for _ in range(1):\n",
    "    result = portion_data(result, decoder)\n",
    "    # print(result)\n",
    "    # print(\"\")\n",
    "\n",
    "print(result.count(\"#\"))\n",
    "\n",
    "for _ in range(48):\n",
    "    result = portion_data(result, decoder)\n",
    "    # print(result)\n",
    "    # print(\"\")\n",
    "\n",
    "print(result.count(\"#\"))\n",
    "\n"
   ]
  },
  {
   "cell_type": "code",
   "execution_count": 28,
   "metadata": {},
   "outputs": [
    {
     "name": "stdout",
     "output_type": "stream",
     "text": [
      "\n",
      "\n",
      "5846\n",
      "21149\n"
     ]
    }
   ],
   "source": [
    "decoder = create_decoder(real_decoder)\n",
    "result = portion_data(real_input, decoder)\n",
    "# print(real_input)\n",
    "print(\"\")\n",
    "# print(result)\n",
    "print(\"\")\n",
    "\n",
    "for _ in range(1):\n",
    "    result = portion_data(result, decoder)\n",
    "    # print(result)\n",
    "    # print(\"\")\n",
    "\n",
    "print(result.count(\"#\"))\n",
    "\n",
    "\n",
    "for _ in range(48):\n",
    "    result = portion_data(result, decoder)\n",
    "    # print(result)\n",
    "    # print(\"\")\n",
    "\n",
    "print(result.count(\"#\"))\n"
   ]
  }
 ],
 "metadata": {
  "kernelspec": {
   "display_name": "Python 3.11.0rc1 64-bit",
   "language": "python",
   "name": "python3"
  },
  "language_info": {
   "codemirror_mode": {
    "name": "ipython",
    "version": 3
   },
   "file_extension": ".py",
   "mimetype": "text/x-python",
   "name": "python",
   "nbconvert_exporter": "python",
   "pygments_lexer": "ipython3",
   "version": "3.11.0rc1"
  },
  "orig_nbformat": 4,
  "vscode": {
   "interpreter": {
    "hash": "ead1b95f633dc9c51826328e1846203f51a198c6fb5f2884a80417ba131d4e82"
   }
  }
 },
 "nbformat": 4,
 "nbformat_minor": 2
}
