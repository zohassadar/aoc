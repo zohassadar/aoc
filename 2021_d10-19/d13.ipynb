{
 "cells": [
  {
   "cell_type": "code",
   "execution_count": 75,
   "metadata": {},
   "outputs": [
    {
     "name": "stdout",
     "output_type": "stream",
     "text": [
      "[[0 0 0 1 0 0 1 0 0 1 0]\n",
      " [0 0 0 0 1 0 0 0 0 0 0]\n",
      " [0 0 0 0 0 0 0 0 0 0 0]\n",
      " [1 0 0 0 0 0 0 0 0 0 0]\n",
      " [0 0 0 1 0 0 0 0 1 0 1]\n",
      " [0 0 0 0 0 0 0 0 0 0 0]\n",
      " [0 0 0 0 0 0 0 0 0 0 0]\n",
      " [0 0 0 0 0 0 0 0 0 0 0]\n",
      " [0 0 0 0 0 0 0 0 0 0 0]\n",
      " [0 0 0 0 0 0 0 0 0 0 0]\n",
      " [0 1 0 0 0 0 1 0 1 1 0]\n",
      " [0 0 0 0 1 0 0 0 0 0 0]\n",
      " [0 0 0 0 0 0 1 0 0 0 1]\n",
      " [1 0 0 0 0 0 0 0 0 0 0]\n",
      " [1 0 1 0 0 0 0 0 0 0 0]]\n",
      "[('y', 7), ('x', 5)]\n"
     ]
    }
   ],
   "source": [
    "import re\n",
    "from operator import itemgetter\n",
    "import numpy as np\n",
    "\n",
    "data1 = \"\"\"\n",
    "6,10\n",
    "0,14\n",
    "9,10\n",
    "0,3\n",
    "10,4\n",
    "4,11\n",
    "6,0\n",
    "6,12\n",
    "4,1\n",
    "0,13\n",
    "10,12\n",
    "3,4\n",
    "3,0\n",
    "8,4\n",
    "1,10\n",
    "2,14\n",
    "8,10\n",
    "9,0\n",
    "\n",
    "fold along y=7\n",
    "fold along x=5\"\"\"\n",
    "\n",
    "def get_coords(data):\n",
    "    return [(int(x),int(y)) for x,y in re.findall(r'(\\d+),(\\d+)', data)]\n",
    "\n",
    "\n",
    "def get_folds(data):\n",
    "    return [(axis,int(coord)) for axis,coord in re.findall(r'([xy])=(\\d+)', data)]\n",
    "\n",
    "\n",
    "\n",
    "def get_shape(coords):\n",
    "    first = itemgetter(0)\n",
    "    second = itemgetter(1)\n",
    "    return max(first(xy) for xy in coords)+1, max(second(xy) for xy in coords)+1\n",
    "\n",
    "\n",
    "def get_array(coords, shape):\n",
    "    x,y = shape\n",
    "    array = np.zeros((y,x), dtype=int)\n",
    "    for x,y in coords:\n",
    "        array[y,x] = 1\n",
    "    return array\n",
    "\n",
    "\n",
    "DEBUG = False\n",
    "\n",
    "def fold_array(array, axis, coord):\n",
    "    y,x = array.shape\n",
    "    if axis == \"y\":\n",
    "       top = array[:coord,:] \n",
    "       bot = np.flip(array[coord+1:,:], axis=0)\n",
    "       y = min(top.shape[0], bot.shape[0])\n",
    "       DEBUG and print(f'{top.shape[0]} == {bot.shape[0]}: {top.shape[0] == bot.shape[0]}')\n",
    "       return (top | bot)\n",
    "    if axis == \"x\":\n",
    "       lef = array[:,:coord] \n",
    "       rig = np.flip(array[:,coord+1:], axis=1)\n",
    "       x = min(lef.shape[0], rig.shape[0])\n",
    "       DEBUG and print(f'{lef.shape[0]} == {rig.shape[0]}: {lef.shape[0] == rig.shape[0]}')\n",
    "       return (lef | rig)\n",
    "    return np.zeros(shape=(y,x),dtype=int)\n",
    "\n",
    "       \n",
    "\n",
    "\n",
    "\n",
    "coords = get_coords(data1)\n",
    "shape = get_shape(coords)\n",
    "folds = get_folds(data1)\n",
    "\n",
    "array = get_array(coords, shape)\n",
    "\n",
    "\n",
    "print(array)\n",
    "print(folds)\n",
    "\n"
   ]
  },
  {
   "cell_type": "code",
   "execution_count": null,
   "metadata": {},
   "outputs": [],
   "source": []
  },
  {
   "cell_type": "code",
   "execution_count": 68,
   "metadata": {},
   "outputs": [
    {
     "name": "stdout",
     "output_type": "stream",
     "text": [
      "7 == 7: True\n",
      "17\n"
     ]
    }
   ],
   "source": [
    "coords = get_coords(data1)\n",
    "shape = get_shape(coords)\n",
    "folds = get_folds(data1)\n",
    "\n",
    "array = get_array(coords, shape)\n",
    "\n",
    "for fold in folds:\n",
    "    array = fold_array(array, *fold)\n",
    "    break\n",
    "\n",
    "\n",
    "print(np.count_nonzero(array))\n",
    "\n"
   ]
  },
  {
   "cell_type": "code",
   "execution_count": 77,
   "metadata": {},
   "outputs": [
    {
     "name": "stdout",
     "output_type": "stream",
     "text": [
      "647\n"
     ]
    }
   ],
   "source": [
    "real_data = open('d13.input').read()\n",
    "coords = get_coords(real_data)\n",
    "shape = get_shape(coords)\n",
    "folds = get_folds(real_data)\n",
    "array = get_array(coords, shape)\n",
    "\n",
    "for fold in folds:\n",
    "    array = fold_array(array, *fold)\n",
    "    break\n",
    "\n",
    "\n",
    "print(np.count_nonzero(array))"
   ]
  },
  {
   "cell_type": "code",
   "execution_count": 83,
   "metadata": {},
   "outputs": [
    {
     "name": "stdout",
     "output_type": "stream",
     "text": [
      "#  # ####   ## #  #   ## ###   ##    ## \n",
      "#  # #       # #  #    # #  # #  #    # \n",
      "#### ###     # ####    # #  # #       # \n",
      "#  # #       # #  #    # ###  #       # \n",
      "#  # #    #  # #  # #  # # #  #  # #  # \n",
      "#  # ####  ##  #  #  ##  #  #  ##   ##  \n"
     ]
    }
   ],
   "source": [
    "array = get_array(coords, shape)\n",
    "for fold in folds:\n",
    "    array = fold_array(array, *fold)\n",
    "\n",
    "array.shape = array.shape[0], array.shape[1] // 4, 4\n",
    "\n",
    "for row in array:\n",
    "    for col in row:\n",
    "        for c in col:\n",
    "            print (\"#\" if c else \" \", end=\"\")\n",
    "    print(\"\")"
   ]
  }
 ],
 "metadata": {
  "kernelspec": {
   "display_name": "Python 3.10.6 64-bit",
   "language": "python",
   "name": "python3"
  },
  "language_info": {
   "codemirror_mode": {
    "name": "ipython",
    "version": 3
   },
   "file_extension": ".py",
   "mimetype": "text/x-python",
   "name": "python",
   "nbconvert_exporter": "python",
   "pygments_lexer": "ipython3",
   "version": "3.10.6"
  },
  "orig_nbformat": 4,
  "vscode": {
   "interpreter": {
    "hash": "e7370f93d1d0cde622a1f8e1c04877d8463912d04d973331ad4851f04de6915a"
   }
  }
 },
 "nbformat": 4,
 "nbformat_minor": 2
}
