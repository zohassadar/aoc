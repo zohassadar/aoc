{
 "cells": [
  {
   "cell_type": "code",
   "execution_count": 33,
   "metadata": {},
   "outputs": [
    {
     "name": "stdout",
     "output_type": "stream",
     "text": [
      "(0, 0) (2, 5)\n"
     ]
    }
   ],
   "source": [
    "import re\n",
    "from collections import defaultdict\n",
    "from operator import itemgetter\n",
    "from pprint import pp\n",
    "from queue import PriorityQueue\n",
    "from sys import maxsize\n",
    "\n",
    "import numpy as np\n",
    "\n",
    "second = itemgetter(1)\n",
    "\n",
    "sample = \"\"\"Sabqponm\n",
    "abcryxxl\n",
    "accszExk\n",
    "acctuvwj\n",
    "abdefghi\"\"\"\n",
    "\n",
    "def get_array(data):\n",
    "    width = len(data.splitlines()[0])\n",
    "    digits = re.findall(r'[SEa-z]', data)\n",
    "    digits = [ord(c) for c in digits]\n",
    "    array = np.array(digits, dtype=int)\n",
    "    array.shape = len(digits) // width, width\n",
    "    return array\n",
    "\n",
    "\n",
    "def extract_start_stop(array):\n",
    "    start = np.where(array==83)\n",
    "    array[start] = 97\n",
    "    stop = np.where(array==69)\n",
    "    array[stop] = 122\n",
    "    return (start[0][0], start[1][0]), (stop[0][0], stop[1][0])\n",
    "\n",
    "\n",
    "array = get_array(sample)\n",
    "\n",
    "start, stop = extract_start_stop(array)\n",
    "print(start, stop)"
   ]
  },
  {
   "cell_type": "code",
   "execution_count": 90,
   "metadata": {},
   "outputs": [
    {
     "name": "stdout",
     "output_type": "stream",
     "text": [
      "start=(0, 0) stop=(2, 5)\n",
      "{('a', 97, 0, 0): {(1, 0): ('a', 2), (0, 1): ('a', 2)},\n",
      " ('a', 97, 0, 1): {(1, 1): ('b', 1), (0, 0): ('a', 2), (0, 2): ('b', 1)},\n",
      " ('b', 98, 0, 2): {(1, 2): ('c', 1), (0, 1): ('a', 3)},\n",
      " ('q', 113, 0, 3): {(1, 3): ('r', 1), (0, 2): ('b', 17), (0, 4): ('p', 3)},\n",
      " ('p', 112, 0, 4): {(0, 3): ('q', 1), (0, 5): ('o', 3)},\n",
      " ('o', 111, 0, 5): {(0, 4): ('p', 1), (0, 6): ('n', 3)},\n",
      " ('n', 110, 0, 6): {(0, 5): ('o', 1), (0, 7): ('m', 3)},\n",
      " ('m', 109, 0, 7): {(1, 7): ('l', 3), (0, 6): ('n', 1)},\n",
      " ('a', 97, 1, 0): {(0, 0): ('a', 2), (2, 0): ('a', 2), (1, 1): ('b', 1)},\n",
      " ('b', 98, 1, 1): {(0, 1): ('a', 3),\n",
      "                   (2, 1): ('c', 1),\n",
      "                   (1, 0): ('a', 3),\n",
      "                   (1, 2): ('c', 1)},\n",
      " ('c', 99, 1, 2): {(0, 2): ('b', 3), (2, 2): ('c', 2), (1, 1): ('b', 3)},\n",
      " ('r', 114, 1, 3): {(0, 3): ('q', 3), (2, 3): ('s', 1), (1, 2): ('c', 17)},\n",
      " ('y', 121, 1, 4): {(0, 4): ('p', 11),\n",
      "                    (2, 4): ('z', 1),\n",
      "                    (1, 3): ('r', 9),\n",
      "                    (1, 5): ('x', 3)},\n",
      " ('x', 120, 1, 5): {(0, 5): ('o', 11), (1, 4): ('y', 1), (1, 6): ('x', 2)},\n",
      " ('x', 120, 1, 6): {(0, 6): ('n', 12),\n",
      "                    (2, 6): ('x', 2),\n",
      "                    (1, 5): ('x', 2),\n",
      "                    (1, 7): ('l', 14)},\n",
      " ('l', 108, 1, 7): {(0, 7): ('m', 1), (2, 7): ('k', 3)},\n",
      " ('a', 97, 2, 0): {(1, 0): ('a', 2), (3, 0): ('a', 2)},\n",
      " ('c', 99, 2, 1): {(1, 1): ('b', 3),\n",
      "                   (3, 1): ('c', 2),\n",
      "                   (2, 0): ('a', 4),\n",
      "                   (2, 2): ('c', 2)},\n",
      " ('c', 99, 2, 2): {(1, 2): ('c', 2), (3, 2): ('c', 2), (2, 1): ('c', 2)},\n",
      " ('s', 115, 2, 3): {(1, 3): ('r', 3), (3, 3): ('t', 1), (2, 2): ('c', 18)},\n",
      " ('z', 122, 2, 4): {(1, 4): ('y', 3),\n",
      "                    (3, 4): ('u', 7),\n",
      "                    (2, 3): ('s', 9),\n",
      "                    (2, 5): ('z', 2)},\n",
      " ('z', 122, 2, 5): {(1, 5): ('x', 4),\n",
      "                    (3, 5): ('v', 6),\n",
      "                    (2, 4): ('z', 2),\n",
      "                    (2, 6): ('x', 4)},\n",
      " ('x', 120, 2, 6): {(1, 6): ('x', 2), (3, 6): ('w', 3), (2, 7): ('k', 15)},\n",
      " ('k', 107, 2, 7): {(1, 7): ('l', 1), (3, 7): ('j', 3)},\n",
      " ('a', 97, 3, 0): {(2, 0): ('a', 2), (4, 0): ('a', 2)},\n",
      " ('c', 99, 3, 1): {(2, 1): ('c', 2),\n",
      "                   (4, 1): ('b', 3),\n",
      "                   (3, 0): ('a', 4),\n",
      "                   (3, 2): ('c', 2)},\n",
      " ('c', 99, 3, 2): {(2, 2): ('c', 2), (4, 2): ('d', 1), (3, 1): ('c', 2)},\n",
      " ('t', 116, 3, 3): {(2, 3): ('s', 3),\n",
      "                    (4, 3): ('e', 17),\n",
      "                    (3, 2): ('c', 19),\n",
      "                    (3, 4): ('u', 1)},\n",
      " ('u', 117, 3, 4): {(4, 4): ('f', 17), (3, 3): ('t', 3), (3, 5): ('v', 1)},\n",
      " ('v', 118, 3, 5): {(4, 5): ('g', 17), (3, 4): ('u', 3), (3, 6): ('w', 1)},\n",
      " ('w', 119, 3, 6): {(2, 6): ('x', 1),\n",
      "                    (4, 6): ('h', 17),\n",
      "                    (3, 5): ('v', 3),\n",
      "                    (3, 7): ('j', 15)},\n",
      " ('j', 106, 3, 7): {(2, 7): ('k', 1), (4, 7): ('i', 3)},\n",
      " ('a', 97, 4, 0): {(3, 0): ('a', 2), (4, 1): ('b', 1)},\n",
      " ('b', 98, 4, 1): {(3, 1): ('c', 1), (4, 0): ('a', 3)},\n",
      " ('d', 100, 4, 2): {(3, 2): ('c', 3), (4, 1): ('b', 4), (4, 3): ('e', 1)},\n",
      " ('e', 101, 4, 3): {(4, 2): ('d', 3), (4, 4): ('f', 1)},\n",
      " ('f', 102, 4, 4): {(4, 3): ('e', 3), (4, 5): ('g', 1)},\n",
      " ('g', 103, 4, 5): {(4, 4): ('f', 3), (4, 6): ('h', 1)},\n",
      " ('h', 104, 4, 6): {(4, 5): ('g', 3), (4, 7): ('i', 1)},\n",
      " ('i', 105, 4, 7): {(3, 7): ('j', 1), (4, 6): ('h', 3)}}\n"
     ]
    }
   ],
   "source": [
    "\n",
    "def get_neighbors(array):\n",
    "    debug_results = {}\n",
    "    forward = {}\n",
    "    backward = {}\n",
    "    for y, row in enumerate(array):\n",
    "        for x, col in enumerate(row):\n",
    "            neighbors = []\n",
    "            if y > 0:\n",
    "                neighbors.append((y - 1,x))\n",
    "            if y < array.shape[0] - 1:\n",
    "                neighbors.append((y + 1,x))\n",
    "            if x > 0:\n",
    "                neighbors.append((y,x - 1))\n",
    "            if x < array.shape[1] - 1:\n",
    "                neighbors.append((y,x + 1))\n",
    "            forward[(y,x)] = {n: col - array[n] + 2 for n in neighbors if col >= array[n] - 1}\n",
    "            backward[(y,x)] = {n: array[n] - col + 2 for n in neighbors if array[n] >= col - 1}\n",
    "            debug_results[(chr(col),col,y,x)] = {n: (chr(array[n]),col - array[n] + 2) for n in neighbors if col >= array[n]-1}\n",
    "    return forward, debug_results, backward\n",
    "\n",
    "\n",
    "\n",
    "\n",
    "array = get_array(sample)\n",
    "start,stop = extract_start_stop(array)\n",
    "forward,debug_results,backward = get_neighbors(array)\n",
    "from pprint import pp\n",
    "print(f'{start=} {stop=}')\n",
    "pp(debug_results)\n",
    "\n",
    "                \n"
   ]
  },
  {
   "cell_type": "code",
   "execution_count": 91,
   "metadata": {},
   "outputs": [],
   "source": [
    "\n",
    "\n",
    "\n",
    "\n",
    "class PathFinder:\n",
    "    def __init__(self, data, debug=False):\n",
    "        self.debug = debug\n",
    "        if isinstance(data, str):\n",
    "            self.array = get_array(data)\n",
    "        else:\n",
    "            self.array = data\n",
    "        self.start, self.stop = extract_start_stop(self.array)\n",
    "        self.neighbors, _, self.backward = get_neighbors(self.array)\n",
    "\n",
    "    def get_todo(self):\n",
    "        while True:\n",
    "            if not self.todo.empty():\n",
    "                ondeck = self.todo.get()\n",
    "                yield second(ondeck)\n",
    "            else:\n",
    "                break\n",
    "\n",
    "    def get_path_to_position(self, next_hop):\n",
    "        hops = []\n",
    "        while True:\n",
    "            neighbors = sorted(self.backward[next_hop], key=lambda n: self.knowns[n])\n",
    "            next_hop = neighbors[0]\n",
    "            hops.append(next_hop)\n",
    "            if self.knowns[next_hop] == 0:\n",
    "                break\n",
    "        return hops\n",
    "\n",
    "    def crawl_from_position(self,start,backward=False):\n",
    "        self.knowns = defaultdict(lambda: maxsize)\n",
    "        self.knowns[start] = 0\n",
    "        self.todo = PriorityQueue()\n",
    "        self.todo.put((0, start))\n",
    "        self.been_there = set()\n",
    "        current_neighbors = self.neighbors\n",
    "        if backward:\n",
    "            current_neighbors = self.backward\n",
    "        for todo in self.get_todo():\n",
    "            if todo in self.been_there:\n",
    "                continue\n",
    "            self.been_there.add(todo)\n",
    "            my_cost = self.knowns[todo]\n",
    "            self.debug and print(f'Regarding {todo}.  Known cost is {my_cost}')\n",
    "            neighbors = current_neighbors[todo]\n",
    "            for neighbor, cost in neighbors.items():\n",
    "                known_cost = self.knowns[neighbor]\n",
    "                new_cost = cost + my_cost\n",
    "                if new_cost < known_cost:\n",
    "                    self.debug and print (f\"IMPROVED! {neighbor} {known_cost} with {new_cost}\")\n",
    "                    self.knowns[neighbor] = new_cost\n",
    "                    self.todo.put((new_cost, neighbor))\n",
    "                else: \n",
    "                    self.debug and print (f\"ALREADY GOOD! {neighbor} {known_cost} is better than {new_cost}\")\n"
   ]
  },
  {
   "cell_type": "code",
   "execution_count": 92,
   "metadata": {},
   "outputs": [
    {
     "name": "stdout",
     "output_type": "stream",
     "text": [
      "31\n"
     ]
    }
   ],
   "source": [
    "pf = PathFinder(sample, debug=False)\n",
    "pf.crawl_from_position(pf.start)\n",
    "\n",
    "hops = pf.get_path_to_position(pf.stop)\n",
    "print(len(hops))\n",
    "\n"
   ]
  },
  {
   "cell_type": "code",
   "execution_count": 93,
   "metadata": {},
   "outputs": [
    {
     "name": "stdout",
     "output_type": "stream",
     "text": [
      "472\n"
     ]
    }
   ],
   "source": [
    "\n",
    "pf = PathFinder(open('d12.input').read(), debug=False)\n",
    "pf.crawl_from_position(pf.start)\n",
    "\n",
    "hops = pf.get_path_to_position(pf.stop)\n",
    "print(len(hops))\n"
   ]
  },
  {
   "cell_type": "code",
   "execution_count": 96,
   "metadata": {},
   "outputs": [
    {
     "name": "stdout",
     "output_type": "stream",
     "text": [
      "29\n"
     ]
    }
   ],
   "source": [
    "pf = PathFinder(sample, debug=False)\n",
    "\n",
    "pf.crawl_from_position(pf.stop, backward=True)\n",
    "positions = list(zip(*np.where(pf.array==97)))\n",
    "positions.sort(key=lambda pos: pf.knowns[pos])\n",
    "best = next(iter(positions))\n",
    "\n",
    "pf.crawl_from_position(best)\n",
    "hops = pf.get_path_to_position(pf.stop)\n",
    "print(len(hops))\n"
   ]
  },
  {
   "cell_type": "code",
   "execution_count": 97,
   "metadata": {},
   "outputs": [
    {
     "name": "stdout",
     "output_type": "stream",
     "text": [
      "465\n"
     ]
    }
   ],
   "source": [
    "pf = PathFinder(open('d12.input').read(), debug=False)\n",
    "\n",
    "pf.crawl_from_position(pf.stop, backward=True)\n",
    "positions = list(zip(*np.where(pf.array==97)))\n",
    "positions.sort(key=lambda pos: pf.knowns[pos])\n",
    "best = next(iter(positions))\n",
    "\n",
    "pf.crawl_from_position(best)\n",
    "hops = pf.get_path_to_position(pf.stop)\n",
    "print(len(hops))\n"
   ]
  }
 ],
 "metadata": {
  "kernelspec": {
   "display_name": "Python 3.11.0rc1 64-bit",
   "language": "python",
   "name": "python3"
  },
  "language_info": {
   "codemirror_mode": {
    "name": "ipython",
    "version": 3
   },
   "file_extension": ".py",
   "mimetype": "text/x-python",
   "name": "python",
   "nbconvert_exporter": "python",
   "pygments_lexer": "ipython3",
   "version": "3.11.0rc1"
  },
  "orig_nbformat": 4,
  "vscode": {
   "interpreter": {
    "hash": "ead1b95f633dc9c51826328e1846203f51a198c6fb5f2884a80417ba131d4e82"
   }
  }
 },
 "nbformat": 4,
 "nbformat_minor": 2
}
