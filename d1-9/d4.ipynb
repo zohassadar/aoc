{
 "cells": [
  {
   "cell_type": "code",
   "execution_count": 19,
   "metadata": {},
   "outputs": [],
   "source": [
    "import re\n",
    "import numpy as np"
   ]
  },
  {
   "cell_type": "code",
   "execution_count": 4,
   "metadata": {},
   "outputs": [],
   "source": [
    "sample_data = \"\"\"7,4,9,5,11,17,23,2,0,14,21,24,10,16,13,6,15,25,12,22,18,20,8,19,3,26,1\n",
    "\n",
    "22 13 17 11  0\n",
    " 8  2 23  4 24\n",
    "21  9 14 16  7\n",
    " 6 10  3 18  5\n",
    " 1 12 20 15 19\n",
    "\n",
    " 3 15  0  2 22\n",
    " 9 18 13 17  5\n",
    "19  8  7 25 23\n",
    "20 11 10 24  4\n",
    "14 21 16 12  6\n",
    "\n",
    "14 21 17 24  4\n",
    "10 16 15  9 19\n",
    "18  8 23 26 20\n",
    "22 11 13  6  5\n",
    " 2  0 12  3  7\"\"\""
   ]
  },
  {
   "cell_type": "code",
   "execution_count": 23,
   "metadata": {},
   "outputs": [],
   "source": [
    "def extract_calls(data):\n",
    "    return [int(i) for i in data.split(\"\\n\", 1)[0].split(\",\")]\n",
    "\n",
    "\n",
    "\n",
    "def extract_grids(data):\n",
    "    grid_raw = re.findall('\\d+', data.split(\"\\n\", 1)[1])\n",
    "    array = np.array(grid_raw, dtype=int)\n",
    "    array.shape = len(grid_raw)//25,5,5\n",
    "    return array\n"
   ]
  },
  {
   "cell_type": "code",
   "execution_count": 71,
   "metadata": {},
   "outputs": [
    {
     "data": {
      "text/plain": [
       "4512"
      ]
     },
     "execution_count": 71,
     "metadata": {},
     "output_type": "execute_result"
    }
   ],
   "source": [
    "\n",
    "grids= extract_grids(sample_data)\n",
    "calls = extract_calls(sample_data)\n",
    "\n",
    "\n",
    "def crunch_results(grid, result, lastcall):\n",
    "    return np.sum(grid, where=np.invert(result)) * lastcall\n",
    "\n",
    "def get_winner(calls, grids):\n",
    "    calls = calls.copy()\n",
    "    calls.reverse()\n",
    "    called = []\n",
    "    results = (grids.copy() * 0).astype(bool)\n",
    "    for i in range(50):\n",
    "        called.append(calls.pop())\n",
    "        for z,grid in enumerate(grids):\n",
    "            for y,row in enumerate(grid):\n",
    "                for x,column in enumerate(row):\n",
    "                    if column in called:\n",
    "                        results[z,y,x] = True\n",
    "                    if results[z,:,x].all():\n",
    "                        return crunch_results(grids[z,:,:], results[z,:,:], called[-1])\n",
    "                if results[z,y,:].all():\n",
    "                    return crunch_results(grids[z,:,:], results[z,:,:], called[-1])\n",
    "                \n",
    "\n",
    "get_winner(calls, grids)"
   ]
  },
  {
   "cell_type": "code",
   "execution_count": 74,
   "metadata": {},
   "outputs": [
    {
     "data": {
      "text/plain": [
       "5685"
      ]
     },
     "execution_count": 74,
     "metadata": {},
     "output_type": "execute_result"
    }
   ],
   "source": [
    "data = open('d4.input').read()\n",
    "\n",
    "grids= extract_grids(data)\n",
    "calls = extract_calls(data)\n",
    "\n",
    "get_winner(calls, grids)\n"
   ]
  },
  {
   "cell_type": "code",
   "execution_count": 107,
   "metadata": {},
   "outputs": [
    {
     "name": "stdout",
     "output_type": "stream",
     "text": [
      "[[ 3 15  0  2 22]\n",
      " [ 9 18 13 17  5]\n",
      " [19  8  7 25 23]\n",
      " [20 11 10 24  4]\n",
      " [14 21 16 12  6]]\n",
      "[[False False  True  True False]\n",
      " [ True False  True  True  True]\n",
      " [False False  True False  True]\n",
      " [False  True  True  True  True]\n",
      " [ True  True  True False False]]\n",
      "13\n"
     ]
    },
    {
     "data": {
      "text/plain": [
       "1924"
      ]
     },
     "execution_count": 107,
     "metadata": {},
     "output_type": "execute_result"
    }
   ],
   "source": [
    "def crunch_results(grid, result, lastcall):\n",
    "    print(grid)\n",
    "    print(result)\n",
    "    print(lastcall)\n",
    "    return np.sum(grid, where=np.invert(result)) * lastcall\n",
    "\n",
    "def get_last_winner(calls, grids):\n",
    "    calls = calls.copy()\n",
    "    calls.reverse()\n",
    "    results = (grids.copy() * 0).astype(bool)\n",
    "    windexes = []\n",
    "    while calls:\n",
    "        called = calls.pop()\n",
    "        for z,grid in enumerate(grids):\n",
    "            if z in windexes:\n",
    "                continue\n",
    "            for y,row in enumerate(grid):\n",
    "                if z in windexes:\n",
    "                    continue\n",
    "                for x,column in enumerate(row):\n",
    "                    if z in windexes:\n",
    "                        continue\n",
    "                    if column == called:\n",
    "                        results[z,y,x] = True\n",
    "                    if results[z,:,x].all() or results[z,y,:].all():\n",
    "                        windexes.append(z)\n",
    "                        break\n",
    "        if len(windexes) == len(grids):\n",
    "            last = windexes[-1]\n",
    "            return crunch_results(grids[last], results[last], called)\n",
    "\n",
    "\n",
    "grids= extract_grids(sample_data)\n",
    "calls = extract_calls(sample_data)\n",
    "\n",
    "\n",
    "get_last_winner(calls, grids)"
   ]
  },
  {
   "cell_type": "code",
   "execution_count": 109,
   "metadata": {},
   "outputs": [
    {
     "name": "stdout",
     "output_type": "stream",
     "text": [
      "[[10 43 83 75  8]\n",
      " [88 12 38 30  9]\n",
      " [60 67 59 76  6]\n",
      " [55 45 74 34 25]\n",
      " [97 49 65 96 69]]\n",
      "[[ True  True False  True  True]\n",
      " [False  True  True  True  True]\n",
      " [ True  True False  True  True]\n",
      " [ True  True  True False  True]\n",
      " [False  True  True  True False]]\n",
      "49\n"
     ]
    },
    {
     "data": {
      "text/plain": [
       "21070"
      ]
     },
     "execution_count": 109,
     "metadata": {},
     "output_type": "execute_result"
    }
   ],
   "source": [
    "\n",
    "data = open('d4.input').read()\n",
    "\n",
    "grids= extract_grids(data)\n",
    "calls = extract_calls(data)\n",
    "\n",
    "\n",
    "get_last_winner(calls, grids)\n"
   ]
  }
 ],
 "metadata": {
  "kernelspec": {
   "display_name": "Python 3.10.6 64-bit",
   "language": "python",
   "name": "python3"
  },
  "language_info": {
   "codemirror_mode": {
    "name": "ipython",
    "version": 3
   },
   "file_extension": ".py",
   "mimetype": "text/x-python",
   "name": "python",
   "nbconvert_exporter": "python",
   "pygments_lexer": "ipython3",
   "version": "3.10.6"
  },
  "orig_nbformat": 4,
  "vscode": {
   "interpreter": {
    "hash": "e7370f93d1d0cde622a1f8e1c04877d8463912d04d973331ad4851f04de6915a"
   }
  }
 },
 "nbformat": 4,
 "nbformat_minor": 2
}
