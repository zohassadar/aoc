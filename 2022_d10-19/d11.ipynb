{
 "cells": [
  {
   "cell_type": "code",
   "execution_count": 200,
   "metadata": {},
   "outputs": [
    {
     "name": "stdout",
     "output_type": "stream",
     "text": [
      "{0: (deque([10, 12, 14, 26, 34]), 'old * 19', 23, 2, 3), 1: (deque([245, 93, 53, 199, 115]), 'old + 6', 19, 2, 0), 2: (deque([]), 'old * old', 13, 1, 3), 3: (deque([]), 'old + 3', 17, 0, 1)}\n",
      "10605\n"
     ]
    }
   ],
   "source": [
    "import re\n",
    "from collections import deque, defaultdict\n",
    "from math import prod\n",
    "from pprint import pp\n",
    "\n",
    "class Number:\n",
    "  def __init__(self, monkey, number):\n",
    "    self.monkey = monkey\n",
    "    self.original_number = number\n",
    "    self.number = number\n",
    "    self.ratios = set()\n",
    "  def __repr__(self):\n",
    "    return f'{self.monkey}: {self.original_number}'\n",
    "  def __hash__(self):\n",
    "    return hash((self.monkey, self.original_number))\n",
    "    \n",
    "\n",
    "sample = \"\"\"Monkey 0:\n",
    "  Starting items: 79, 98\n",
    "  Operation: new = old * 19\n",
    "  Test: divisible by 23\n",
    "    If true: throw to monkey 2\n",
    "    If false: throw to monkey 3\n",
    "\n",
    "Monkey 1:\n",
    "  Starting items: 54, 65, 75, 74\n",
    "  Operation: new = old + 6\n",
    "  Test: divisible by 19\n",
    "    If true: throw to monkey 2\n",
    "    If false: throw to monkey 0\n",
    "\n",
    "Monkey 2:\n",
    "  Starting items: 79, 60, 97\n",
    "  Operation: new = old * old\n",
    "  Test: divisible by 13\n",
    "    If true: throw to monkey 1\n",
    "    If false: throw to monkey 3\n",
    "\n",
    "Monkey 3:\n",
    "  Starting items: 74\n",
    "  Operation: new = old + 3\n",
    "  Test: divisible by 17\n",
    "    If true: throw to monkey 0\n",
    "    If false: throw to monkey 1\"\"\"\n",
    "\n",
    "\n",
    "def getdata(data):\n",
    "    monkeys = map(int, re.findall(r'Monkey (\\d+)', data))\n",
    "    starts = re.findall(r'Starting items: (.*)', data)\n",
    "    starts = [deque(int(i.strip()) for i in start.split(\",\") if i.strip())for start in starts]\n",
    "    operations = re.findall(r'Operation: new = (.*)', data)\n",
    "    tests = map(int, re.findall(r'Test: divisible by (\\d+)', data))\n",
    "    iftrue = map(int, re.findall(r'If true: throw to monkey (\\d+)', data))\n",
    "    iffalse = map(int, re.findall(r'If false: throw to monkey (\\d+)', data))\n",
    "    return {m: (s,o,t,tu,fa) for m,s,o,t,tu,fa in zip(monkeys, starts, operations, tests, iftrue, iffalse)}\n",
    "\n",
    "\n",
    "def get_diff_data(data):\n",
    "    monkeys = map(int, re.findall(r'Monkey (\\d+)', data))\n",
    "    starts = re.findall(r'Starting items: (.*)', data)\n",
    "    starts = [deque(Number(monkey, int(i.strip())) for i in start.split(\",\") if i.strip()) for monkey, start in enumerate(starts)]\n",
    "    operations = re.findall(r'Operation: new = (.*)', data)\n",
    "    tests = map(int, re.findall(r'Test: divisible by (\\d+)', data))\n",
    "    iftrue = map(int, re.findall(r'If true: throw to monkey (\\d+)', data))\n",
    "    iffalse = map(int, re.findall(r'If false: throw to monkey (\\d+)', data))\n",
    "    return {m: (s,o,t,tu,fa,[0]) for m,s,o,t,tu,fa in zip(monkeys, starts, operations, tests, iftrue, iffalse)}\n",
    "\n",
    "\n",
    "\n",
    "\n",
    "def do_stuff(monkeys):\n",
    "    monkey_counter = defaultdict(int)\n",
    "    for _ in range(20):\n",
    "        for monkey, (starts, operation, test, iftrue, iffalse) in monkeys.items():\n",
    "            while starts:\n",
    "                monkey_counter[monkey] += 1\n",
    "                old = starts.popleft()\n",
    "                new = eval(operation)\n",
    "                new = new // 3\n",
    "                if not new % test:\n",
    "                    monkeys[iftrue][0].append(new)\n",
    "                else:\n",
    "                    monkeys[iffalse][0].append(new)\n",
    "                \n",
    "    print(monkeys)\n",
    "    print(prod(sorted(monkey_counter.values())[-2:]))\n",
    "\n",
    "\n",
    "monkeys = getdata(sample)\n",
    "do_stuff(monkeys)"
   ]
  },
  {
   "cell_type": "code",
   "execution_count": 201,
   "metadata": {},
   "outputs": [
    {
     "name": "stdout",
     "output_type": "stream",
     "text": [
      "{0: (deque([2, 2, 2, 2, 2, 2, 2, 2, 2, 2, 7, 7, 7, 7]), 'old * 7', 11, 5, 6), 1: (deque([3, 1, 1, 1, 1, 1, 1, 1, 1, 1, 1, 1, 1, 1, 6]), 'old * 17', 19, 4, 2), 2: (deque([]), 'old + 2', 5, 7, 4), 3: (deque([2, 2, 2, 2, 2, 2, 2]), 'old + 1', 2, 2, 1), 4: (deque([]), 'old + 6', 13, 7, 0), 5: (deque([]), 'old * old', 7, 6, 3), 6: (deque([]), 'old + 3', 3, 1, 3), 7: (deque([]), 'old + 4', 17, 0, 5)}\n",
      "56350\n"
     ]
    }
   ],
   "source": [
    "\n",
    "monkeys = getdata(open('d11.input').read())\n",
    "do_stuff(monkeys)\n"
   ]
  },
  {
   "cell_type": "code",
   "execution_count": 202,
   "metadata": {},
   "outputs": [],
   "source": [
    "def do_different_stuff(monkeys, cycles=20, debug=False):\n",
    "    monkey_chain = defaultdict(list)\n",
    "    factor = prod(m[2] for m in monkeys.values())\n",
    "    for c in range(cycles):\n",
    "        for monkey, (starts, operation, test, iftrue, iffalse, counter) in monkeys.items():\n",
    "            while starts:\n",
    "                counter[0] += 1\n",
    "                number = starts.popleft()\n",
    "                old = number.number\n",
    "                new = eval(operation) % factor\n",
    "                monkey_chain[number].append(monkey)\n",
    "                number.number = new\n",
    "                # new = new // 3\n",
    "                # new = (new // factor) + (new % factor)\n",
    "                if not new % test:\n",
    "                    monkeys[iftrue][0].append(number)\n",
    "                else:\n",
    "                    monkeys[iffalse][0].append(number)\n",
    "                \n",
    "    debug and print({k: v[0] for k,v in monkeys.items()})\n",
    "    return monkey_chain\n",
    "    \n",
    "    # print(prod(sorted(monkey_counter.values())[-2:]))\n",
    "\n"
   ]
  },
  {
   "cell_type": "code",
   "execution_count": 203,
   "metadata": {},
   "outputs": [
    {
     "name": "stdout",
     "output_type": "stream",
     "text": [
      "{0: (deque([0: 79, 0: 98]), 'old * 19', 23, 2, 3, [0]),\n",
      " 1: (deque([1: 54, 1: 65, 1: 75, 1: 74]), 'old + 6', 19, 2, 0, [0]),\n",
      " 2: (deque([2: 79, 2: 60, 2: 97]), 'old * old', 13, 1, 3, [0]),\n",
      " 3: (deque([3: 74]), 'old + 3', 17, 0, 1, [0])}\n",
      "2713310158\n"
     ]
    }
   ],
   "source": [
    "\n",
    "\n",
    "monkeys = get_diff_data(sample)\n",
    "\n",
    "pp(monkeys)\n",
    "\n",
    "monkey_chain = do_different_stuff(monkeys, 10000)  \n",
    "\n",
    "print(prod(sorted([v[-1][0] for v in monkeys.values()])[-2:] ))\n",
    "\n"
   ]
  },
  {
   "cell_type": "code",
   "execution_count": 204,
   "metadata": {},
   "outputs": [
    {
     "name": "stdout",
     "output_type": "stream",
     "text": [
      "{0: (deque([0: 97, 0: 81, 0: 57, 0: 57, 0: 91, 0: 61]),\n",
      "     'old * 7',\n",
      "     11,\n",
      "     5,\n",
      "     6,\n",
      "     [0]),\n",
      " 1: (deque([1: 88, 1: 62, 1: 68, 1: 90]), 'old * 17', 19, 4, 2, [0]),\n",
      " 2: (deque([2: 74, 2: 87]), 'old + 2', 5, 7, 4, [0]),\n",
      " 3: (deque([3: 53, 3: 81, 3: 60, 3: 87, 3: 90, 3: 99, 3: 75]),\n",
      "     'old + 1',\n",
      "     2,\n",
      "     2,\n",
      "     1,\n",
      "     [0]),\n",
      " 4: (deque([4: 57]), 'old + 6', 13, 7, 0, [0]),\n",
      " 5: (deque([5: 54, 5: 84, 5: 91, 5: 55, 5: 59, 5: 72, 5: 75, 5: 70]),\n",
      "     'old * old',\n",
      "     7,\n",
      "     6,\n",
      "     3,\n",
      "     [0]),\n",
      " 6: (deque([6: 95, 6: 79, 6: 79, 6: 68, 6: 78]), 'old + 3', 3, 1, 3, [0]),\n",
      " 7: (deque([7: 61, 7: 97, 7: 67]), 'old + 4', 17, 0, 5, [0])}\n",
      "13954061248\n"
     ]
    }
   ],
   "source": [
    "monkeys = get_diff_data(open('d11.input').read())\n",
    "\n",
    "pp(monkeys)\n",
    "monkey_chain = do_different_stuff(monkeys, 10000)  \n",
    "print(prod(sorted([v[-1][0] for v in monkeys.values()])[-2:] ))"
   ]
  }
 ],
 "metadata": {
  "kernelspec": {
   "display_name": "Python 3.11.0rc1 64-bit",
   "language": "python",
   "name": "python3"
  },
  "language_info": {
   "codemirror_mode": {
    "name": "ipython",
    "version": 3
   },
   "file_extension": ".py",
   "mimetype": "text/x-python",
   "name": "python",
   "nbconvert_exporter": "python",
   "pygments_lexer": "ipython3",
   "version": "3.11.0rc1"
  },
  "orig_nbformat": 4,
  "vscode": {
   "interpreter": {
    "hash": "ead1b95f633dc9c51826328e1846203f51a198c6fb5f2884a80417ba131d4e82"
   }
  }
 },
 "nbformat": 4,
 "nbformat_minor": 2
}
