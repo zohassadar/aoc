{
 "cells": [
  {
   "cell_type": "code",
   "execution_count": 43,
   "metadata": {},
   "outputs": [
    {
     "name": "stdout",
     "output_type": "stream",
     "text": [
      "    [D]    \n",
      "[N] [C]    \n",
      "[Z] [M] [P]\n",
      " 1   2   3 \n",
      "\n",
      "move 1 from 2 to 1\n",
      "move 3 from 1 to 3\n",
      "move 2 from 2 to 1\n",
      "move 1 from 1 to 2\n",
      "{1: ['Z', 'N'], 2: ['M', 'C', 'D'], 3: ['P']}\n",
      "[(1, 2, 1), (3, 1, 3), (2, 2, 1), (1, 1, 2)]\n",
      "CMZ\n"
     ]
    }
   ],
   "source": [
    "import re\n",
    "from itertools import cycle\n",
    "from collections import deque, defaultdict\n",
    "from pprint import pp\n",
    "\n",
    "sample = \"\"\"    [D]    \n",
    "[N] [C]    \n",
    "[Z] [M] [P]\n",
    " 1   2   3 \n",
    "\n",
    "move 1 from 2 to 1\n",
    "move 3 from 1 to 3\n",
    "move 2 from 2 to 1\n",
    "move 1 from 1 to 2\"\"\"\n",
    "\n",
    "\n",
    "\n",
    "\n",
    "print(sample)\n",
    "\n",
    "\n",
    "def get_structure(data):\n",
    "    stacks = deque(re.findall(r'\\[(\\w)\\]|   (?: |$)', data, flags=re.M))\n",
    "    indexes = cycle([int(i) for i in re.search(r'^\\s+(?:\\d(?:\\s+|$))+', data, re.M).group().strip().split()])\n",
    "    structure = defaultdict(deque)\n",
    "    while stacks:\n",
    "        index = next(indexes)\n",
    "        stack = stacks.popleft().strip()\n",
    "        if stack:\n",
    "            structure[index].appendleft(stack)\n",
    "    return {k: list(v) for k,v in sorted(structure.items())}\n",
    "\n",
    "def get_instructions(data):\n",
    "    results = []\n",
    "    instructions = re.findall(r'move\\s+(\\d+)\\s+from\\s+(\\d+)\\s+to\\s+(\\d+)', data)\n",
    "    for quantity, source, destination in instructions:\n",
    "        results.append((int(quantity), int(source), int(destination)))\n",
    "    return results\n",
    "    \n",
    "\n",
    "\n",
    "def tops1(structure, to_do):\n",
    "    for quantity, source, destination in to_do:\n",
    "        for _ in range(quantity):\n",
    "            structure[destination].append(structure[source].pop())\n",
    "\n",
    "\n",
    "def get_tops(data, tops):\n",
    "    structure = get_structure(data)\n",
    "    to_do = get_instructions(data)\n",
    "    tops(structure, to_do)\n",
    "    print(''.join(v[-1] for v in structure.values()))\n",
    "\n",
    "\n",
    "\n",
    "\n",
    "structure = get_structure(sample)\n",
    "to_do = get_instructions(sample)\n",
    "\n",
    "pp(structure)\n",
    "pp(to_do)\n",
    "get_tops(sample, tops1)\n"
   ]
  },
  {
   "cell_type": "code",
   "execution_count": 35,
   "metadata": {},
   "outputs": [
    {
     "name": "stdout",
     "output_type": "stream",
     "text": [
      "LJSVLTWQM\n"
     ]
    }
   ],
   "source": [
    "realdeal = open('d5.input').read()\n",
    "\n",
    "get_tops(realdeal, tops1)"
   ]
  },
  {
   "cell_type": "code",
   "execution_count": 39,
   "metadata": {},
   "outputs": [],
   "source": [
    "\n",
    "def tops2(structure, to_do):\n",
    "    for quantity, source, destination in to_do:\n",
    "        structure[destination].extend(structure[source][-1 * quantity:])\n",
    "        for _ in range(quantity):\n",
    "            structure[source].pop()\n",
    "\n",
    "\n"
   ]
  },
  {
   "cell_type": "code",
   "execution_count": 40,
   "metadata": {},
   "outputs": [
    {
     "name": "stdout",
     "output_type": "stream",
     "text": [
      "MCD\n"
     ]
    }
   ],
   "source": [
    "\n",
    "get_tops(sample, tops2)"
   ]
  },
  {
   "cell_type": "code",
   "execution_count": 41,
   "metadata": {},
   "outputs": [
    {
     "name": "stdout",
     "output_type": "stream",
     "text": [
      "BRQWDBBJM\n"
     ]
    }
   ],
   "source": [
    "get_tops(realdeal, tops2)"
   ]
  }
 ],
 "metadata": {
  "kernelspec": {
   "display_name": "Python 3.11.0rc1 64-bit",
   "language": "python",
   "name": "python3"
  },
  "language_info": {
   "codemirror_mode": {
    "name": "ipython",
    "version": 3
   },
   "file_extension": ".py",
   "mimetype": "text/x-python",
   "name": "python",
   "nbconvert_exporter": "python",
   "pygments_lexer": "ipython3",
   "version": "3.11.0rc1"
  },
  "orig_nbformat": 4,
  "vscode": {
   "interpreter": {
    "hash": "ead1b95f633dc9c51826328e1846203f51a198c6fb5f2884a80417ba131d4e82"
   }
  }
 },
 "nbformat": 4,
 "nbformat_minor": 2
}
