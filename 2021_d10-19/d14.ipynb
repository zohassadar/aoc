{
 "cells": [
  {
   "cell_type": "code",
   "execution_count": 41,
   "metadata": {},
   "outputs": [
    {
     "name": "stdout",
     "output_type": "stream",
     "text": [
      "1588\n"
     ]
    }
   ],
   "source": [
    "import re\n",
    "from collections import defaultdict\n",
    "from itertools import pairwise\n",
    "from pprint import pprint\n",
    "\n",
    "\n",
    "\n",
    "sample = \"\"\"NNCB\n",
    "\n",
    "CH -> B\n",
    "HH -> N\n",
    "CB -> H\n",
    "NH -> C\n",
    "HB -> C\n",
    "HC -> B\n",
    "HN -> C\n",
    "NN -> C\n",
    "BH -> H\n",
    "NC -> B\n",
    "NB -> B\n",
    "BN -> B\n",
    "BB -> N\n",
    "BC -> B\n",
    "CC -> N\n",
    "CN -> C\n",
    "\"\"\"\n",
    "\n",
    "def get_seed_and_key(data):\n",
    "    seed, keydata = data.split(\"\\n\", 1)\n",
    "    seed = re.findall(r'[A-Z]', seed)\n",
    "    keys = re.findall(r'([A-Z])([A-Z]) -> ([A-Z])', keydata)\n",
    "    return seed, keys\n",
    "\n",
    "\n",
    "def add_dicts(this, that):\n",
    "    for key in set(list(this) + list(that)):\n",
    "        this[key] += that[key]\n",
    "    return this\n",
    "\n",
    "\n",
    "class Cruncher:\n",
    "    def __init__(self, data, debug=False):\n",
    "        self.debug = debug\n",
    "        self.seed,self.keys = get_seed_and_key(data)\n",
    "        self.p2p = {(x,y): ((x,z),(z,y)) for x,y,z in self.keys}\n",
    "        self.p2n  = {(x,y): z for x,y,z in self.keys}\n",
    "        self.ones = defaultdict(int)\n",
    "        for s in self.seed:\n",
    "            self.ones[s] += 1\n",
    "\n",
    "        self.pairs = defaultdict(int)\n",
    "        for p in pairwise(self.seed):\n",
    "            self.pairs[p] += 1\n",
    "\n",
    "    def crunch_totals(self):\n",
    "        new_ones = defaultdict(int)\n",
    "        new_pairs = defaultdict(int)\n",
    "        for pair, count in self.pairs.items():\n",
    "            pair1 = self.p2p[pair][0]\n",
    "            pair2 = self.p2p[pair][1]\n",
    "            new = self.p2n[pair]\n",
    "            new_ones[new] += count\n",
    "            new_pairs[pair1] += count\n",
    "            new_pairs[pair2] += count\n",
    "            new_pairs[pair] -= count\n",
    "            self.debug and print(f\"{pair=} {count=} {pair1=} {pair2=} {new=}\")\n",
    "        self.pairs = add_dicts(self.pairs, new_pairs)\n",
    "        self.ones = add_dicts(self.ones, new_ones)\n",
    "                \n",
    "\n",
    "\n",
    "\"\"\"\n",
    ">>> Counter(\"NCNBCHB\")\n",
    "Counter({'N': 2, 'C': 2, 'B': 2, 'H': 1})\n",
    ">>> Counter(\"NBCCNBBBCBHCB\")\n",
    "Counter({'B': 6, 'C': 4, 'N': 2, 'H': 1})\n",
    "\"\"\"\n",
    "\n",
    "\n",
    "c = Cruncher(sample, debug=False)\n",
    "for _ in range(10):\n",
    "    c.crunch_totals()\n",
    "\n",
    "\n",
    "scores = c.ones.values()\n",
    "print(max(scores) - min(scores))"
   ]
  },
  {
   "cell_type": "code",
   "execution_count": 42,
   "metadata": {},
   "outputs": [
    {
     "name": "stdout",
     "output_type": "stream",
     "text": [
      "2188189693529\n"
     ]
    }
   ],
   "source": [
    "c = Cruncher(sample, debug=False)\n",
    "for _ in range(40):\n",
    "    c.crunch_totals()\n",
    "\n",
    "\n",
    "scores = c.ones.values()\n",
    "print(max(scores) - min(scores))"
   ]
  },
  {
   "cell_type": "code",
   "execution_count": 40,
   "metadata": {},
   "outputs": [
    {
     "name": "stdout",
     "output_type": "stream",
     "text": [
      "2233\n"
     ]
    }
   ],
   "source": [
    "data = open(\"d14.input\").read()\n",
    "\n",
    "\n",
    "\n",
    "c = Cruncher(data, debug=False)\n",
    "for _ in range(10):\n",
    "    c.crunch_totals()\n",
    "\n",
    "\n",
    "scores = c.ones.values()\n",
    "print(max(scores) - min(scores))\n",
    "\n"
   ]
  },
  {
   "cell_type": "code",
   "execution_count": 43,
   "metadata": {},
   "outputs": [
    {
     "name": "stdout",
     "output_type": "stream",
     "text": [
      "2884513602164\n"
     ]
    }
   ],
   "source": [
    "data = open(\"d14.input\").read()\n",
    "\n",
    "\n",
    "\n",
    "c = Cruncher(data, debug=False)\n",
    "for _ in range(40):\n",
    "    c.crunch_totals()\n",
    "\n",
    "\n",
    "scores = c.ones.values()\n",
    "print(max(scores) - min(scores))"
   ]
  }
 ],
 "metadata": {
  "kernelspec": {
   "display_name": "Python 3.11.0rc1 64-bit",
   "language": "python",
   "name": "python3"
  },
  "language_info": {
   "codemirror_mode": {
    "name": "ipython",
    "version": 3
   },
   "file_extension": ".py",
   "mimetype": "text/x-python",
   "name": "python",
   "nbconvert_exporter": "python",
   "pygments_lexer": "ipython3",
   "version": "3.11.0"
  },
  "orig_nbformat": 4,
  "vscode": {
   "interpreter": {
    "hash": "ead1b95f633dc9c51826328e1846203f51a198c6fb5f2884a80417ba131d4e82"
   }
  }
 },
 "nbformat": 4,
 "nbformat_minor": 2
}
